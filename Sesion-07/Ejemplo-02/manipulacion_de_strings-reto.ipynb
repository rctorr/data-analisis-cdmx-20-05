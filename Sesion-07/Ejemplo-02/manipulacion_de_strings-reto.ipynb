{
 "cells": [
  {
   "cell_type": "markdown",
   "metadata": {},
   "source": [
    "## Reto 2: Manipulación de Strings\n",
    "\n",
    "### 1. Objetivos:\n",
    "    - Practicar manipular `strings` usando métodos como `split`, `title`, `strip, etc.\n",
    " \n",
    "---\n",
    "    \n",
    "### 2. Desarrollo:"
   ]
  },
  {
   "cell_type": "markdown",
   "metadata": {},
   "source": [
    "#### Limpiando strings usando la propiedad `str`\n",
    "\n",
    "Vamos a trabajar en la versión del dataset que guardaste en el reto pasado. Las acciones que tienes que tomar en este Reto son las siguientes:\n",
    "\n",
    "1. Reemplaza los guiones en las `strings` de la columna `orbit_class_description` por espacios.\n",
    "2. Elimina los espacios vacíos al principio y final de las `strings` de la misma columna.\n",
    "3. Hay una columna llamada `id_name` que contiene el 'id' y el nombre de cada objeto separados por un guión. Separa estos datos en dos columnas llamadas `id` y `name`.\n",
    "4. Haz que las `strings` de la columna `orbiting_body` empiecen con mayúscula.\n",
    "5. Asigna el `DataFrame` resultante a la variable `df_reto_2`.\n",
    "6. Guarda tu resultado en un archivo .csv."
   ]
  },
  {
   "cell_type": "code",
   "execution_count": null,
   "metadata": {},
   "outputs": [],
   "source": [
    "df_reto_2 ="
   ]
  },
  {
   "cell_type": "markdown",
   "metadata": {},
   "source": [
    "¡Compara con tus compañeros y con la experta tu solución para asegurarte de que realizaste los procesos adecuadamente!"
   ]
  }
 ],
 "metadata": {
  "kernelspec": {
   "display_name": "Python 3",
   "language": "python",
   "name": "python3"
  },
  "language_info": {
   "codemirror_mode": {
    "name": "ipython",
    "version": 3
   },
   "file_extension": ".py",
   "mimetype": "text/x-python",
   "name": "python",
   "nbconvert_exporter": "python",
   "pygments_lexer": "ipython3",
   "version": "3.7.4"
  }
 },
 "nbformat": 4,
 "nbformat_minor": 4
}
