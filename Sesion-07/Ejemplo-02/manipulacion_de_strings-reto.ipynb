{
 "cells": [
  {
   "cell_type": "markdown",
   "metadata": {},
   "source": [
    "## Reto 2: Manipulación de Strings\n",
    "\n",
    "### 1. Objetivos:\n",
    "    - Practicar manipular `strings` usando métodos como `split`, `title`, `strip, etc.\n",
    " \n",
    "---\n",
    "    \n",
    "### 2. Desarrollo:"
   ]
  },
  {
   "cell_type": "markdown",
   "metadata": {},
   "source": [
    "#### Limpiando strings usando la propiedad `str`\n",
    "\n",
    "Vamos a trabajar en la versión del dataset que guardaste en el reto pasado. Las acciones que tienes que tomar en este Reto son las siguientes:\n",
    "\n",
    "1. Reemplaza los guiones en las `strings` de la columna `orbit_class_description` por espacios.\n",
    "2. Elimina los espacios vacíos al principio y final de las `strings` de la misma columna.\n",
    "3. Hay una columna llamada `id_name` que contiene el 'id' y el nombre de cada objeto separados por un guión. Separa estos datos en dos columnas llamadas `id` y `name`.\n",
    "4. Haz que las `strings` de la columna `orbiting_body` empiecen con mayúscula.\n",
    "5. Asigna el `DataFrame` resultante a la variable `df_reto_2`.\n",
    "6. Guarda tu resultado en un archivo .csv."
   ]
  },
  {
   "cell_type": "code",
   "execution_count": 1,
   "metadata": {},
   "outputs": [],
   "source": [
    "# import\n",
    "import pandas as pd"
   ]
  },
  {
   "cell_type": "code",
   "execution_count": 9,
   "metadata": {},
   "outputs": [
    {
     "data": {
      "text/html": [
       "<div>\n",
       "<style scoped>\n",
       "    .dataframe tbody tr th:only-of-type {\n",
       "        vertical-align: middle;\n",
       "    }\n",
       "\n",
       "    .dataframe tbody tr th {\n",
       "        vertical-align: top;\n",
       "    }\n",
       "\n",
       "    .dataframe thead th {\n",
       "        text-align: right;\n",
       "    }\n",
       "</style>\n",
       "<table border=\"1\" class=\"dataframe\">\n",
       "  <thead>\n",
       "    <tr style=\"text-align: right;\">\n",
       "      <th></th>\n",
       "      <th>id_name</th>\n",
       "      <th>is_potentially_hazardous_asteroid</th>\n",
       "      <th>estimated_diameter.meters.estimated_diameter_min</th>\n",
       "      <th>estimated_diameter.meters.estimated_diameter_max</th>\n",
       "      <th>close_approach_date</th>\n",
       "      <th>epoch_date_close_approach</th>\n",
       "      <th>orbiting_body</th>\n",
       "      <th>relative_velocity.kilometers_per_second</th>\n",
       "      <th>relative_velocity.kilometers_per_hour</th>\n",
       "      <th>orbit_class_description</th>\n",
       "    </tr>\n",
       "  </thead>\n",
       "  <tbody>\n",
       "    <tr>\n",
       "      <th>0</th>\n",
       "      <td>2154652-154652 (2004 EP20)</td>\n",
       "      <td>False</td>\n",
       "      <td>483.676488</td>\n",
       "      <td>1081.533507</td>\n",
       "      <td>1995-01-07</td>\n",
       "      <td>1995-01-07 08:33:00</td>\n",
       "      <td>earth</td>\n",
       "      <td>16.142864</td>\n",
       "      <td>58114.308667</td>\n",
       "      <td>Near-Earth-asteroid-orbits-similar-to-that-o...</td>\n",
       "    </tr>\n",
       "    <tr>\n",
       "      <th>1</th>\n",
       "      <td>3153509-(2003 HM)</td>\n",
       "      <td>True</td>\n",
       "      <td>96.506147</td>\n",
       "      <td>215.794305</td>\n",
       "      <td>1995-01-07</td>\n",
       "      <td>1995-01-07 15:09:00</td>\n",
       "      <td>earth</td>\n",
       "      <td>12.351044</td>\n",
       "      <td>44463.757734</td>\n",
       "      <td>Near-Earth-asteroid-orbits-which-cross-the-E...</td>\n",
       "    </tr>\n",
       "    <tr>\n",
       "      <th>2</th>\n",
       "      <td>3837644-(2019 AY3)</td>\n",
       "      <td>False</td>\n",
       "      <td>46.190746</td>\n",
       "      <td>103.285648</td>\n",
       "      <td>1995-01-07</td>\n",
       "      <td>1995-01-07 21:25:00</td>\n",
       "      <td>earth</td>\n",
       "      <td>22.478615</td>\n",
       "      <td>80923.015021</td>\n",
       "      <td>Near-Earth-asteroid-orbits-similar-to-that-o...</td>\n",
       "    </tr>\n",
       "  </tbody>\n",
       "</table>\n",
       "</div>"
      ],
      "text/plain": [
       "                      id_name  is_potentially_hazardous_asteroid  \\\n",
       "0  2154652-154652 (2004 EP20)                              False   \n",
       "1           3153509-(2003 HM)                               True   \n",
       "2          3837644-(2019 AY3)                              False   \n",
       "\n",
       "   estimated_diameter.meters.estimated_diameter_min  \\\n",
       "0                                        483.676488   \n",
       "1                                         96.506147   \n",
       "2                                         46.190746   \n",
       "\n",
       "   estimated_diameter.meters.estimated_diameter_max close_approach_date  \\\n",
       "0                                       1081.533507          1995-01-07   \n",
       "1                                        215.794305          1995-01-07   \n",
       "2                                        103.285648          1995-01-07   \n",
       "\n",
       "  epoch_date_close_approach orbiting_body  \\\n",
       "0       1995-01-07 08:33:00         earth   \n",
       "1       1995-01-07 15:09:00         earth   \n",
       "2       1995-01-07 21:25:00         earth   \n",
       "\n",
       "   relative_velocity.kilometers_per_second  \\\n",
       "0                                16.142864   \n",
       "1                                12.351044   \n",
       "2                                22.478615   \n",
       "\n",
       "   relative_velocity.kilometers_per_hour  \\\n",
       "0                           58114.308667   \n",
       "1                           44463.757734   \n",
       "2                           80923.015021   \n",
       "\n",
       "                             orbit_class_description  \n",
       "0    Near-Earth-asteroid-orbits-similar-to-that-o...  \n",
       "1    Near-Earth-asteroid-orbits-which-cross-the-E...  \n",
       "2    Near-Earth-asteroid-orbits-similar-to-that-o...  "
      ]
     },
     "execution_count": 9,
     "metadata": {},
     "output_type": "execute_result"
    }
   ],
   "source": [
    "df_reto_2 = pd.read_csv(\"../Ejemplo-01/objetos_cercanos_1.csv\", index_col=0)\n",
    "df_reto_2.head(3)"
   ]
  },
  {
   "cell_type": "code",
   "execution_count": 10,
   "metadata": {},
   "outputs": [
    {
     "data": {
      "text/plain": [
       "0        Near-Earth-asteroid-orbits-similar-to-that-o...\n",
       "1        Near-Earth-asteroid-orbits-which-cross-the-E...\n",
       "2        Near-Earth-asteroid-orbits-similar-to-that-o...\n",
       "3       Near-Earth-asteroid-orbits-similar-to-that-of...\n",
       "4       An-asteroid-orbit-contained-entirely-within-t...\n",
       "                             ...                        \n",
       "296     Near-Earth-asteroid-orbits-similar-to-that-of...\n",
       "297      Near-Earth-asteroid-orbits-similar-to-that-o...\n",
       "298      Near-Earth-asteroid-orbits-which-cross-the-E...\n",
       "299     An-asteroid-orbit-contained-entirely-within-t...\n",
       "300      Near-Earth-asteroid-orbits-similar-to-that-o...\n",
       "Name: orbit_class_description, Length: 301, dtype: object"
      ]
     },
     "execution_count": 10,
     "metadata": {},
     "output_type": "execute_result"
    }
   ],
   "source": [
    "df_reto_2[\"orbit_class_description\"]"
   ]
  },
  {
   "cell_type": "code",
   "execution_count": 11,
   "metadata": {},
   "outputs": [
    {
     "data": {
      "text/plain": [
       "0        Near Earth asteroid orbits similar to that o...\n",
       "1        Near Earth asteroid orbits which cross the E...\n",
       "2        Near Earth asteroid orbits similar to that o...\n",
       "3       Near Earth asteroid orbits similar to that of...\n",
       "4       An asteroid orbit contained entirely within t...\n",
       "                             ...                        \n",
       "296     Near Earth asteroid orbits similar to that of...\n",
       "297      Near Earth asteroid orbits similar to that o...\n",
       "298      Near Earth asteroid orbits which cross the E...\n",
       "299     An asteroid orbit contained entirely within t...\n",
       "300      Near Earth asteroid orbits similar to that o...\n",
       "Name: orbit_class_description, Length: 301, dtype: object"
      ]
     },
     "execution_count": 11,
     "metadata": {},
     "output_type": "execute_result"
    }
   ],
   "source": [
    "df_reto_2[\"orbit_class_description\"].str.replace(\"-\", \" \")"
   ]
  },
  {
   "cell_type": "code",
   "execution_count": 14,
   "metadata": {},
   "outputs": [
    {
     "data": {
      "text/plain": [
       "'  Near Earth asteroid orbits similar to that of 2062 Aten  '"
      ]
     },
     "execution_count": 14,
     "metadata": {},
     "output_type": "execute_result"
    }
   ],
   "source": [
    "df_reto_2[\"orbit_class_description\"] = \\\n",
    "    df_reto_2[\"orbit_class_description\"].str.replace(\"-\", \" \")\n",
    "df_reto_2[\"orbit_class_description\"].loc[0]"
   ]
  },
  {
   "cell_type": "code",
   "execution_count": 16,
   "metadata": {},
   "outputs": [
    {
     "data": {
      "text/plain": [
       "'Near Earth asteroid orbits similar to that of 2062 Aten'"
      ]
     },
     "execution_count": 16,
     "metadata": {},
     "output_type": "execute_result"
    }
   ],
   "source": [
    "df_reto_2[\"orbit_class_description\"] = \\\n",
    "    df_reto_2[\"orbit_class_description\"].str.strip()\n",
    "df_reto_2[\"orbit_class_description\"].loc[0]"
   ]
  },
  {
   "cell_type": "code",
   "execution_count": 20,
   "metadata": {},
   "outputs": [
    {
     "data": {
      "text/html": [
       "<div>\n",
       "<style scoped>\n",
       "    .dataframe tbody tr th:only-of-type {\n",
       "        vertical-align: middle;\n",
       "    }\n",
       "\n",
       "    .dataframe tbody tr th {\n",
       "        vertical-align: top;\n",
       "    }\n",
       "\n",
       "    .dataframe thead th {\n",
       "        text-align: right;\n",
       "    }\n",
       "</style>\n",
       "<table border=\"1\" class=\"dataframe\">\n",
       "  <thead>\n",
       "    <tr style=\"text-align: right;\">\n",
       "      <th></th>\n",
       "      <th>id_name</th>\n",
       "      <th>is_potentially_hazardous_asteroid</th>\n",
       "      <th>estimated_diameter.meters.estimated_diameter_min</th>\n",
       "      <th>estimated_diameter.meters.estimated_diameter_max</th>\n",
       "      <th>close_approach_date</th>\n",
       "      <th>epoch_date_close_approach</th>\n",
       "      <th>orbiting_body</th>\n",
       "      <th>relative_velocity.kilometers_per_second</th>\n",
       "      <th>relative_velocity.kilometers_per_hour</th>\n",
       "      <th>orbit_class_description</th>\n",
       "      <th>id</th>\n",
       "      <th>name</th>\n",
       "    </tr>\n",
       "  </thead>\n",
       "  <tbody>\n",
       "    <tr>\n",
       "      <th>0</th>\n",
       "      <td>2154652-154652 (2004 EP20)</td>\n",
       "      <td>False</td>\n",
       "      <td>483.676488</td>\n",
       "      <td>1081.533507</td>\n",
       "      <td>1995-01-07</td>\n",
       "      <td>1995-01-07 08:33:00</td>\n",
       "      <td>earth</td>\n",
       "      <td>16.142864</td>\n",
       "      <td>58114.308667</td>\n",
       "      <td>Near Earth asteroid orbits similar to that of ...</td>\n",
       "      <td>2154652</td>\n",
       "      <td>154652 (2004 EP20)</td>\n",
       "    </tr>\n",
       "    <tr>\n",
       "      <th>1</th>\n",
       "      <td>3153509-(2003 HM)</td>\n",
       "      <td>True</td>\n",
       "      <td>96.506147</td>\n",
       "      <td>215.794305</td>\n",
       "      <td>1995-01-07</td>\n",
       "      <td>1995-01-07 15:09:00</td>\n",
       "      <td>earth</td>\n",
       "      <td>12.351044</td>\n",
       "      <td>44463.757734</td>\n",
       "      <td>Near Earth asteroid orbits which cross the Ear...</td>\n",
       "      <td>3153509</td>\n",
       "      <td>(2003 HM)</td>\n",
       "    </tr>\n",
       "    <tr>\n",
       "      <th>2</th>\n",
       "      <td>3837644-(2019 AY3)</td>\n",
       "      <td>False</td>\n",
       "      <td>46.190746</td>\n",
       "      <td>103.285648</td>\n",
       "      <td>1995-01-07</td>\n",
       "      <td>1995-01-07 21:25:00</td>\n",
       "      <td>earth</td>\n",
       "      <td>22.478615</td>\n",
       "      <td>80923.015021</td>\n",
       "      <td>Near Earth asteroid orbits similar to that of ...</td>\n",
       "      <td>3837644</td>\n",
       "      <td>(2019 AY3)</td>\n",
       "    </tr>\n",
       "  </tbody>\n",
       "</table>\n",
       "</div>"
      ],
      "text/plain": [
       "                      id_name  is_potentially_hazardous_asteroid  \\\n",
       "0  2154652-154652 (2004 EP20)                              False   \n",
       "1           3153509-(2003 HM)                               True   \n",
       "2          3837644-(2019 AY3)                              False   \n",
       "\n",
       "   estimated_diameter.meters.estimated_diameter_min  \\\n",
       "0                                        483.676488   \n",
       "1                                         96.506147   \n",
       "2                                         46.190746   \n",
       "\n",
       "   estimated_diameter.meters.estimated_diameter_max close_approach_date  \\\n",
       "0                                       1081.533507          1995-01-07   \n",
       "1                                        215.794305          1995-01-07   \n",
       "2                                        103.285648          1995-01-07   \n",
       "\n",
       "  epoch_date_close_approach orbiting_body  \\\n",
       "0       1995-01-07 08:33:00         earth   \n",
       "1       1995-01-07 15:09:00         earth   \n",
       "2       1995-01-07 21:25:00         earth   \n",
       "\n",
       "   relative_velocity.kilometers_per_second  \\\n",
       "0                                16.142864   \n",
       "1                                12.351044   \n",
       "2                                22.478615   \n",
       "\n",
       "   relative_velocity.kilometers_per_hour  \\\n",
       "0                           58114.308667   \n",
       "1                           44463.757734   \n",
       "2                           80923.015021   \n",
       "\n",
       "                             orbit_class_description       id  \\\n",
       "0  Near Earth asteroid orbits similar to that of ...  2154652   \n",
       "1  Near Earth asteroid orbits which cross the Ear...  3153509   \n",
       "2  Near Earth asteroid orbits similar to that of ...  3837644   \n",
       "\n",
       "                 name  \n",
       "0  154652 (2004 EP20)  \n",
       "1           (2003 HM)  \n",
       "2          (2019 AY3)  "
      ]
     },
     "execution_count": 20,
     "metadata": {},
     "output_type": "execute_result"
    }
   ],
   "source": [
    "df_reto_2[ [\"id\",\"name\"] ] = df_reto_2[\"id_name\"].str.split(\"-\", expand=True)\n",
    "df_reto_2.head(3)"
   ]
  },
  {
   "cell_type": "code",
   "execution_count": 23,
   "metadata": {},
   "outputs": [
    {
     "data": {
      "text/plain": [
       "array(['earth'], dtype=object)"
      ]
     },
     "execution_count": 23,
     "metadata": {},
     "output_type": "execute_result"
    }
   ],
   "source": [
    "df_reto_2[\"orbiting_body\"].unique()"
   ]
  },
  {
   "cell_type": "code",
   "execution_count": 25,
   "metadata": {},
   "outputs": [
    {
     "data": {
      "text/plain": [
       "0      Earth\n",
       "1      Earth\n",
       "2      Earth\n",
       "3      Earth\n",
       "4      Earth\n",
       "       ...  \n",
       "296    Earth\n",
       "297    Earth\n",
       "298    Earth\n",
       "299    Earth\n",
       "300    Earth\n",
       "Name: orbiting_body, Length: 301, dtype: object"
      ]
     },
     "execution_count": 25,
     "metadata": {},
     "output_type": "execute_result"
    }
   ],
   "source": [
    "df_reto_2[\"orbiting_body\"] = df_reto_2[\"orbiting_body\"].str.title()\n",
    "df_reto_2[\"orbiting_body\"]"
   ]
  },
  {
   "cell_type": "code",
   "execution_count": 26,
   "metadata": {},
   "outputs": [],
   "source": [
    "df_reto_2.to_csv(\"objetos_cercanos_2.csv\")"
   ]
  },
  {
   "cell_type": "markdown",
   "metadata": {},
   "source": [
    "¡Compara con tus compañeros y con la experta tu solución para asegurarte de que realizaste los procesos adecuadamente!"
   ]
  }
 ],
 "metadata": {
  "kernelspec": {
   "display_name": "Python 3",
   "language": "python",
   "name": "python3"
  },
  "language_info": {
   "codemirror_mode": {
    "name": "ipython",
    "version": 3
   },
   "file_extension": ".py",
   "mimetype": "text/x-python",
   "name": "python",
   "nbconvert_exporter": "python",
   "pygments_lexer": "ipython3",
   "version": "3.7.4"
  }
 },
 "nbformat": 4,
 "nbformat_minor": 4
}
