{
 "cells": [
  {
   "cell_type": "markdown",
   "metadata": {},
   "source": [
    "## Reto 5: Filtros\n",
    "\n",
    "### 1. Objetivos:\n",
    "    - Practicar el uso de filtros para la obtención de subconjuntos de datos\n",
    "    \n",
    "---\n",
    "    \n",
    "### 2. Desarrollo:"
   ]
  },
  {
   "cell_type": "markdown",
   "metadata": {},
   "source": [
    "#### a) Filtrando por fechas, booleanos y valores numéricos\n",
    "\n",
    "Vamos a trabajar con el mismo dataset que guardaste del Reto anterior. Este Reto consiste en los siguiente:\n",
    "\n",
    "Usando filtros, crea 3 subconjuntos de datos:\n",
    "\n",
    "1. Un subconjunto llamado `df_hazardous` que contenga sólo los records que correspondan a los objetos donde `is_potentially_hazardous_asteroid` sea `True` (o `1`).\n",
    "2. Un subconjunto llamado `df_greater_than_1000` que contenga sólo los records donde el `estimated_diameter.meters.estimated_diameter_max` sea mayor a 1000 metros.\n",
    "3. Un subconjunto llamado `df_february` que contenga sólo los records que pertenezcan exactamente al mes de Febrero de 1995. Recuerda que los datos en la columna `epoch_date_close_approach` están en milisegundos.\n"
   ]
  },
  {
   "cell_type": "code",
   "execution_count": 1,
   "metadata": {},
   "outputs": [],
   "source": [
    "import pandas as pd"
   ]
  },
  {
   "cell_type": "code",
   "execution_count": 2,
   "metadata": {},
   "outputs": [
    {
     "data": {
      "text/html": [
       "<div>\n",
       "<style scoped>\n",
       "    .dataframe tbody tr th:only-of-type {\n",
       "        vertical-align: middle;\n",
       "    }\n",
       "\n",
       "    .dataframe tbody tr th {\n",
       "        vertical-align: top;\n",
       "    }\n",
       "\n",
       "    .dataframe thead th {\n",
       "        text-align: right;\n",
       "    }\n",
       "</style>\n",
       "<table border=\"1\" class=\"dataframe\">\n",
       "  <thead>\n",
       "    <tr style=\"text-align: right;\">\n",
       "      <th></th>\n",
       "      <th>id_name</th>\n",
       "      <th>is_potentially_hazardous_asteroid</th>\n",
       "      <th>estimated_diameter.meters.estimated_diameter_min</th>\n",
       "      <th>estimated_diameter.meters.estimated_diameter_max</th>\n",
       "      <th>close_approach_date</th>\n",
       "      <th>epoch_date_close_approach</th>\n",
       "      <th>orbiting_body</th>\n",
       "      <th>relative_velocity.kilometers_per_second</th>\n",
       "      <th>relative_velocity.kilometers_per_hour</th>\n",
       "      <th>orbit_class_description</th>\n",
       "      <th>id</th>\n",
       "      <th>name</th>\n",
       "      <th>relative_velocity.kilometers_per_minute</th>\n",
       "      <th>proportion_of_max_diameter_to_earth</th>\n",
       "    </tr>\n",
       "  </thead>\n",
       "  <tbody>\n",
       "    <tr>\n",
       "      <th>0</th>\n",
       "      <td>2154652-154652 (2004 EP20)</td>\n",
       "      <td>0</td>\n",
       "      <td>483.676488</td>\n",
       "      <td>1081.533507</td>\n",
       "      <td>1995-01-07</td>\n",
       "      <td>1995-01-07 08:33:00</td>\n",
       "      <td>Earth</td>\n",
       "      <td>16.142864</td>\n",
       "      <td>58114.308667</td>\n",
       "      <td>Near Earth asteroid orbits similar to that of ...</td>\n",
       "      <td>2154652</td>\n",
       "      <td>154652 (2004 EP20)</td>\n",
       "      <td>968.571811</td>\n",
       "      <td>0.000085</td>\n",
       "    </tr>\n",
       "    <tr>\n",
       "      <th>1</th>\n",
       "      <td>3153509-(2003 HM)</td>\n",
       "      <td>1</td>\n",
       "      <td>96.506147</td>\n",
       "      <td>215.794305</td>\n",
       "      <td>1995-01-07</td>\n",
       "      <td>1995-01-07 15:09:00</td>\n",
       "      <td>Earth</td>\n",
       "      <td>12.351044</td>\n",
       "      <td>44463.757734</td>\n",
       "      <td>Near Earth asteroid orbits which cross the Ear...</td>\n",
       "      <td>3153509</td>\n",
       "      <td>(2003 HM)</td>\n",
       "      <td>741.062629</td>\n",
       "      <td>0.000017</td>\n",
       "    </tr>\n",
       "    <tr>\n",
       "      <th>2</th>\n",
       "      <td>3837644-(2019 AY3)</td>\n",
       "      <td>0</td>\n",
       "      <td>46.190746</td>\n",
       "      <td>103.285648</td>\n",
       "      <td>1995-01-07</td>\n",
       "      <td>1995-01-07 21:25:00</td>\n",
       "      <td>Earth</td>\n",
       "      <td>22.478615</td>\n",
       "      <td>80923.015021</td>\n",
       "      <td>Near Earth asteroid orbits similar to that of ...</td>\n",
       "      <td>3837644</td>\n",
       "      <td>(2019 AY3)</td>\n",
       "      <td>1348.716917</td>\n",
       "      <td>0.000008</td>\n",
       "    </tr>\n",
       "  </tbody>\n",
       "</table>\n",
       "</div>"
      ],
      "text/plain": [
       "                      id_name  is_potentially_hazardous_asteroid  \\\n",
       "0  2154652-154652 (2004 EP20)                                  0   \n",
       "1           3153509-(2003 HM)                                  1   \n",
       "2          3837644-(2019 AY3)                                  0   \n",
       "\n",
       "   estimated_diameter.meters.estimated_diameter_min  \\\n",
       "0                                        483.676488   \n",
       "1                                         96.506147   \n",
       "2                                         46.190746   \n",
       "\n",
       "   estimated_diameter.meters.estimated_diameter_max close_approach_date  \\\n",
       "0                                       1081.533507          1995-01-07   \n",
       "1                                        215.794305          1995-01-07   \n",
       "2                                        103.285648          1995-01-07   \n",
       "\n",
       "  epoch_date_close_approach orbiting_body  \\\n",
       "0       1995-01-07 08:33:00         Earth   \n",
       "1       1995-01-07 15:09:00         Earth   \n",
       "2       1995-01-07 21:25:00         Earth   \n",
       "\n",
       "   relative_velocity.kilometers_per_second  \\\n",
       "0                                16.142864   \n",
       "1                                12.351044   \n",
       "2                                22.478615   \n",
       "\n",
       "   relative_velocity.kilometers_per_hour  \\\n",
       "0                           58114.308667   \n",
       "1                           44463.757734   \n",
       "2                           80923.015021   \n",
       "\n",
       "                             orbit_class_description       id  \\\n",
       "0  Near Earth asteroid orbits similar to that of ...  2154652   \n",
       "1  Near Earth asteroid orbits which cross the Ear...  3153509   \n",
       "2  Near Earth asteroid orbits similar to that of ...  3837644   \n",
       "\n",
       "                 name  relative_velocity.kilometers_per_minute  \\\n",
       "0  154652 (2004 EP20)                               968.571811   \n",
       "1           (2003 HM)                               741.062629   \n",
       "2          (2019 AY3)                              1348.716917   \n",
       "\n",
       "   proportion_of_max_diameter_to_earth  \n",
       "0                             0.000085  \n",
       "1                             0.000017  \n",
       "2                             0.000008  "
      ]
     },
     "execution_count": 2,
     "metadata": {},
     "output_type": "execute_result"
    }
   ],
   "source": [
    "df_reto_5 = pd.read_csv(\"../Ejemplo-04/objetos_cercanos_4.csv\", index_col=0)\n",
    "df_reto_5.head(3)"
   ]
  },
  {
   "cell_type": "code",
   "execution_count": 3,
   "metadata": {},
   "outputs": [
    {
     "data": {
      "text/plain": [
       "0      0\n",
       "1      1\n",
       "2      0\n",
       "3      0\n",
       "4      0\n",
       "      ..\n",
       "296    0\n",
       "297    0\n",
       "298    0\n",
       "299    0\n",
       "300    0\n",
       "Name: is_potentially_hazardous_asteroid, Length: 301, dtype: int64"
      ]
     },
     "execution_count": 3,
     "metadata": {},
     "output_type": "execute_result"
    }
   ],
   "source": [
    "df_reto_5[\"is_potentially_hazardous_asteroid\"]"
   ]
  },
  {
   "cell_type": "code",
   "execution_count": 7,
   "metadata": {},
   "outputs": [
    {
     "data": {
      "text/plain": [
       "58"
      ]
     },
     "execution_count": 7,
     "metadata": {},
     "output_type": "execute_result"
    }
   ],
   "source": [
    "condicion = df_reto_5[\"is_potentially_hazardous_asteroid\"] == 1\n",
    "df_hazardous = df_reto_5[ condicion ]\n",
    "# imprime la cantidad de registros\n",
    "df_hazardous[\"is_potentially_hazardous_asteroid\"].sum()"
   ]
  },
  {
   "cell_type": "code",
   "execution_count": 8,
   "metadata": {},
   "outputs": [
    {
     "data": {
      "text/plain": [
       "0      1081.533507\n",
       "1       215.794305\n",
       "2       103.285648\n",
       "3        49.435619\n",
       "4       358.129403\n",
       "          ...     \n",
       "296    1081.533507\n",
       "297     986.370281\n",
       "298     986.370281\n",
       "299     358.129403\n",
       "300     941.976306\n",
       "Name: estimated_diameter.meters.estimated_diameter_max, Length: 301, dtype: float64"
      ]
     },
     "execution_count": 8,
     "metadata": {},
     "output_type": "execute_result"
    }
   ],
   "source": [
    "df_reto_5[\"estimated_diameter.meters.estimated_diameter_max\"]"
   ]
  },
  {
   "cell_type": "code",
   "execution_count": 11,
   "metadata": {},
   "outputs": [
    {
     "data": {
      "text/plain": [
       "28"
      ]
     },
     "execution_count": 11,
     "metadata": {},
     "output_type": "execute_result"
    }
   ],
   "source": [
    "condicion = df_reto_5[\"estimated_diameter.meters.estimated_diameter_max\"] > 1000\n",
    "df_bigger_than_1000 = df_reto_5[ condicion ]\n",
    "# imprime la cantidad de registros\n",
    "df_bigger_than_1000[\"estimated_diameter.meters.estimated_diameter_max\"].count()"
   ]
  },
  {
   "cell_type": "code",
   "execution_count": 12,
   "metadata": {},
   "outputs": [
    {
     "data": {
      "text/plain": [
       "0      1995-01-07 08:33:00\n",
       "1      1995-01-07 15:09:00\n",
       "2      1995-01-07 21:25:00\n",
       "3      1995-01-07 02:45:00\n",
       "4      1995-01-08 12:46:00\n",
       "              ...         \n",
       "296    1995-02-21 17:29:00\n",
       "297    1995-02-21 04:17:00\n",
       "298    1995-02-21 15:44:00\n",
       "299    1995-02-21 12:08:00\n",
       "300    1995-02-21 12:54:00\n",
       "Name: epoch_date_close_approach, Length: 301, dtype: object"
      ]
     },
     "execution_count": 12,
     "metadata": {},
     "output_type": "execute_result"
    }
   ],
   "source": [
    "df_reto_5[\"epoch_date_close_approach\"]"
   ]
  },
  {
   "cell_type": "code",
   "execution_count": 14,
   "metadata": {},
   "outputs": [
    {
     "data": {
      "text/plain": [
       "0     1995-01-07 08:33:00\n",
       "1     1995-01-07 15:09:00\n",
       "2     1995-01-07 21:25:00\n",
       "3     1995-01-07 02:45:00\n",
       "4     1995-01-08 12:46:00\n",
       "              ...        \n",
       "296   1995-02-21 17:29:00\n",
       "297   1995-02-21 04:17:00\n",
       "298   1995-02-21 15:44:00\n",
       "299   1995-02-21 12:08:00\n",
       "300   1995-02-21 12:54:00\n",
       "Name: epoch_date_close_approach, Length: 301, dtype: datetime64[ns]"
      ]
     },
     "execution_count": 14,
     "metadata": {},
     "output_type": "execute_result"
    }
   ],
   "source": [
    "df_reto_5[\"epoch_date_close_approach\"] = \\\n",
    "    pd.to_datetime(df_reto_5[\"epoch_date_close_approach\"])\n",
    "df_reto_5[\"epoch_date_close_approach\"]"
   ]
  },
  {
   "cell_type": "code",
   "execution_count": 29,
   "metadata": {},
   "outputs": [
    {
     "data": {
      "text/plain": [
       "156   1995-02-04 09:06:00\n",
       "157   1995-02-04 00:37:00\n",
       "158   1995-02-05 10:31:00\n",
       "159   1995-02-05 18:17:00\n",
       "160   1995-02-05 12:05:00\n",
       "              ...        \n",
       "296   1995-02-21 17:29:00\n",
       "297   1995-02-21 04:17:00\n",
       "298   1995-02-21 15:44:00\n",
       "299   1995-02-21 12:08:00\n",
       "300   1995-02-21 12:54:00\n",
       "Name: epoch_date_close_approach, Length: 134, dtype: datetime64[ns]"
      ]
     },
     "execution_count": 29,
     "metadata": {},
     "output_type": "execute_result"
    }
   ],
   "source": [
    "condicion = df_reto_5[\"epoch_date_close_approach\"].dt.month == 2\n",
    "df_february = df_reto_5[ condicion ]\n",
    "df_february[\"epoch_date_close_approach\"]"
   ]
  },
  {
   "cell_type": "code",
   "execution_count": 32,
   "metadata": {},
   "outputs": [
    {
     "data": {
      "text/plain": [
       "(134, 14)"
      ]
     },
     "execution_count": 32,
     "metadata": {},
     "output_type": "execute_result"
    }
   ],
   "source": [
    "# imprime la cantidad de registros\n",
    "df_february.shape"
   ]
  }
 ],
 "metadata": {
  "kernelspec": {
   "display_name": "Python 3",
   "language": "python",
   "name": "python3"
  },
  "language_info": {
   "codemirror_mode": {
    "name": "ipython",
    "version": 3
   },
   "file_extension": ".py",
   "mimetype": "text/x-python",
   "name": "python",
   "nbconvert_exporter": "python",
   "pygments_lexer": "ipython3",
   "version": "3.7.4"
  }
 },
 "nbformat": 4,
 "nbformat_minor": 4
}
