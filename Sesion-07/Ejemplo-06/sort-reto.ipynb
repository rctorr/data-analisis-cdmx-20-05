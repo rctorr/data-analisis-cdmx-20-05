{
 "cells": [
  {
   "cell_type": "markdown",
   "metadata": {},
   "source": [
    "## Reto 6: Sort\n",
    "\n",
    "### 1. Objetivos:\n",
    "    - Practicar el uso de `sort_values` para obtener datos específicos\n",
    "    \n",
    "---\n",
    "    \n",
    "### 2. Desarrollo:"
   ]
  },
  {
   "cell_type": "markdown",
   "metadata": {},
   "source": [
    "#### a) Reordenamiento para hallazgo de valores\n",
    "\n",
    "Vamos a trabajar sobre el dataset que guardaste en la sesión anterior. Tu Reto consiste en lo siguiente:\n",
    "\n",
    "1. Usa `sort_values` y `loc` para obtener el valor de la velocidad en kilómetros por segundo más lenta de todos los objetos que tenemos en el dataset y asígnalo a `velocidad_en_kilometros_por_segundo_de_objeto_mas_lento`.\n",
    "2. Usa `sort_values` y `loc` para obtener el valor del diámetro más grande medido que existe en nuestro dataset y asígnalo a `medida_de_diametro_mas_grande`"
   ]
  },
  {
   "cell_type": "code",
   "execution_count": 2,
   "metadata": {},
   "outputs": [],
   "source": [
    "import pandas as pd"
   ]
  },
  {
   "cell_type": "code",
   "execution_count": 3,
   "metadata": {},
   "outputs": [
    {
     "data": {
      "text/html": [
       "<div>\n",
       "<style scoped>\n",
       "    .dataframe tbody tr th:only-of-type {\n",
       "        vertical-align: middle;\n",
       "    }\n",
       "\n",
       "    .dataframe tbody tr th {\n",
       "        vertical-align: top;\n",
       "    }\n",
       "\n",
       "    .dataframe thead th {\n",
       "        text-align: right;\n",
       "    }\n",
       "</style>\n",
       "<table border=\"1\" class=\"dataframe\">\n",
       "  <thead>\n",
       "    <tr style=\"text-align: right;\">\n",
       "      <th></th>\n",
       "      <th>id_name</th>\n",
       "      <th>is_potentially_hazardous_asteroid</th>\n",
       "      <th>estimated_diameter.meters.estimated_diameter_min</th>\n",
       "      <th>estimated_diameter.meters.estimated_diameter_max</th>\n",
       "      <th>close_approach_date</th>\n",
       "      <th>epoch_date_close_approach</th>\n",
       "      <th>orbiting_body</th>\n",
       "      <th>relative_velocity.kilometers_per_second</th>\n",
       "      <th>relative_velocity.kilometers_per_hour</th>\n",
       "      <th>orbit_class_description</th>\n",
       "      <th>id</th>\n",
       "      <th>name</th>\n",
       "      <th>relative_velocity.kilometers_per_minute</th>\n",
       "      <th>proportion_of_max_diameter_to_earth</th>\n",
       "    </tr>\n",
       "  </thead>\n",
       "  <tbody>\n",
       "    <tr>\n",
       "      <th>0</th>\n",
       "      <td>2154652-154652 (2004 EP20)</td>\n",
       "      <td>0</td>\n",
       "      <td>483.676488</td>\n",
       "      <td>1081.533507</td>\n",
       "      <td>1995-01-07</td>\n",
       "      <td>1995-01-07 08:33:00</td>\n",
       "      <td>Earth</td>\n",
       "      <td>16.142864</td>\n",
       "      <td>58114.308667</td>\n",
       "      <td>Near Earth asteroid orbits similar to that of ...</td>\n",
       "      <td>2154652</td>\n",
       "      <td>154652 (2004 EP20)</td>\n",
       "      <td>968.571811</td>\n",
       "      <td>0.000085</td>\n",
       "    </tr>\n",
       "    <tr>\n",
       "      <th>1</th>\n",
       "      <td>3153509-(2003 HM)</td>\n",
       "      <td>1</td>\n",
       "      <td>96.506147</td>\n",
       "      <td>215.794305</td>\n",
       "      <td>1995-01-07</td>\n",
       "      <td>1995-01-07 15:09:00</td>\n",
       "      <td>Earth</td>\n",
       "      <td>12.351044</td>\n",
       "      <td>44463.757734</td>\n",
       "      <td>Near Earth asteroid orbits which cross the Ear...</td>\n",
       "      <td>3153509</td>\n",
       "      <td>(2003 HM)</td>\n",
       "      <td>741.062629</td>\n",
       "      <td>0.000017</td>\n",
       "    </tr>\n",
       "    <tr>\n",
       "      <th>2</th>\n",
       "      <td>3837644-(2019 AY3)</td>\n",
       "      <td>0</td>\n",
       "      <td>46.190746</td>\n",
       "      <td>103.285648</td>\n",
       "      <td>1995-01-07</td>\n",
       "      <td>1995-01-07 21:25:00</td>\n",
       "      <td>Earth</td>\n",
       "      <td>22.478615</td>\n",
       "      <td>80923.015021</td>\n",
       "      <td>Near Earth asteroid orbits similar to that of ...</td>\n",
       "      <td>3837644</td>\n",
       "      <td>(2019 AY3)</td>\n",
       "      <td>1348.716917</td>\n",
       "      <td>0.000008</td>\n",
       "    </tr>\n",
       "  </tbody>\n",
       "</table>\n",
       "</div>"
      ],
      "text/plain": [
       "                      id_name  is_potentially_hazardous_asteroid  \\\n",
       "0  2154652-154652 (2004 EP20)                                  0   \n",
       "1           3153509-(2003 HM)                                  1   \n",
       "2          3837644-(2019 AY3)                                  0   \n",
       "\n",
       "   estimated_diameter.meters.estimated_diameter_min  \\\n",
       "0                                        483.676488   \n",
       "1                                         96.506147   \n",
       "2                                         46.190746   \n",
       "\n",
       "   estimated_diameter.meters.estimated_diameter_max close_approach_date  \\\n",
       "0                                       1081.533507          1995-01-07   \n",
       "1                                        215.794305          1995-01-07   \n",
       "2                                        103.285648          1995-01-07   \n",
       "\n",
       "  epoch_date_close_approach orbiting_body  \\\n",
       "0       1995-01-07 08:33:00         Earth   \n",
       "1       1995-01-07 15:09:00         Earth   \n",
       "2       1995-01-07 21:25:00         Earth   \n",
       "\n",
       "   relative_velocity.kilometers_per_second  \\\n",
       "0                                16.142864   \n",
       "1                                12.351044   \n",
       "2                                22.478615   \n",
       "\n",
       "   relative_velocity.kilometers_per_hour  \\\n",
       "0                           58114.308667   \n",
       "1                           44463.757734   \n",
       "2                           80923.015021   \n",
       "\n",
       "                             orbit_class_description       id  \\\n",
       "0  Near Earth asteroid orbits similar to that of ...  2154652   \n",
       "1  Near Earth asteroid orbits which cross the Ear...  3153509   \n",
       "2  Near Earth asteroid orbits similar to that of ...  3837644   \n",
       "\n",
       "                 name  relative_velocity.kilometers_per_minute  \\\n",
       "0  154652 (2004 EP20)                               968.571811   \n",
       "1           (2003 HM)                               741.062629   \n",
       "2          (2019 AY3)                              1348.716917   \n",
       "\n",
       "   proportion_of_max_diameter_to_earth  \n",
       "0                             0.000085  \n",
       "1                             0.000017  \n",
       "2                             0.000008  "
      ]
     },
     "execution_count": 3,
     "metadata": {},
     "output_type": "execute_result"
    }
   ],
   "source": [
    "df_reto_6 = pd.read_csv(\"../Ejemplo-04/objetos_cercanos_4.csv\", index_col=0)\n",
    "df_reto_6.head(3)"
   ]
  },
  {
   "cell_type": "code",
   "execution_count": 4,
   "metadata": {},
   "outputs": [
    {
     "data": {
      "text/plain": [
       "0      16.142864\n",
       "1      12.351044\n",
       "2      22.478615\n",
       "3       4.998691\n",
       "4       7.465089\n",
       "         ...    \n",
       "296    15.474761\n",
       "297    16.180392\n",
       "298    15.106140\n",
       "299    20.343173\n",
       "300    29.732426\n",
       "Name: relative_velocity.kilometers_per_second, Length: 301, dtype: float64"
      ]
     },
     "execution_count": 4,
     "metadata": {},
     "output_type": "execute_result"
    }
   ],
   "source": [
    "df_reto_6[\"relative_velocity.kilometers_per_second\"]"
   ]
  },
  {
   "cell_type": "code",
   "execution_count": 31,
   "metadata": {},
   "outputs": [
    {
     "data": {
      "text/plain": [
       "282    0.681437\n",
       "Name: relative_velocity.kilometers_per_second, dtype: float64"
      ]
     },
     "execution_count": 31,
     "metadata": {},
     "output_type": "execute_result"
    }
   ],
   "source": [
    "df = df_reto_6.sort_values(\"relative_velocity.kilometers_per_second\")\n",
    "df.head(1)[\"relative_velocity.kilometers_per_second\"]"
   ]
  },
  {
   "cell_type": "code",
   "execution_count": 32,
   "metadata": {},
   "outputs": [
    {
     "data": {
      "text/plain": [
       "282    0.681437\n",
       "Name: relative_velocity.kilometers_per_second, dtype: float64"
      ]
     },
     "execution_count": 32,
     "metadata": {},
     "output_type": "execute_result"
    }
   ],
   "source": [
    "velocidad_en_kilometros_por_segundo_de_objeto_mas_lento = \\\n",
    "    df.head(1)[\"relative_velocity.kilometers_per_second\"]\n",
    "velocidad_en_kilometros_por_segundo_de_objeto_mas_lento"
   ]
  },
  {
   "cell_type": "code",
   "execution_count": 36,
   "metadata": {},
   "outputs": [
    {
     "data": {
      "text/plain": [
       "123    6516.883822\n",
       "Name: estimated_diameter.meters.estimated_diameter_max, dtype: float64"
      ]
     },
     "execution_count": 36,
     "metadata": {},
     "output_type": "execute_result"
    }
   ],
   "source": [
    "df = df_reto_6.sort_values(\n",
    "    \"estimated_diameter.meters.estimated_diameter_max\",\n",
    "    ascending=False)\n",
    "df.head(1)[\"estimated_diameter.meters.estimated_diameter_max\"]"
   ]
  },
  {
   "cell_type": "code",
   "execution_count": 37,
   "metadata": {},
   "outputs": [
    {
     "data": {
      "text/plain": [
       "123    6516.883822\n",
       "Name: estimated_diameter.meters.estimated_diameter_max, dtype: float64"
      ]
     },
     "execution_count": 37,
     "metadata": {},
     "output_type": "execute_result"
    }
   ],
   "source": [
    "medida_de_diametro_mas_grande = \\\n",
    "    df.head(1)[\"estimated_diameter.meters.estimated_diameter_max\"]\n",
    "medida_de_diametro_mas_grande"
   ]
  }
 ],
 "metadata": {
  "kernelspec": {
   "display_name": "Python 3",
   "language": "python",
   "name": "python3"
  },
  "language_info": {
   "codemirror_mode": {
    "name": "ipython",
    "version": 3
   },
   "file_extension": ".py",
   "mimetype": "text/x-python",
   "name": "python",
   "nbconvert_exporter": "python",
   "pygments_lexer": "ipython3",
   "version": "3.7.4"
  }
 },
 "nbformat": 4,
 "nbformat_minor": 4
}
