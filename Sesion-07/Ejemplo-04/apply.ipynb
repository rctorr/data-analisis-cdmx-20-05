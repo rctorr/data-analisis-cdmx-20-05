{
 "cells": [
  {
   "cell_type": "markdown",
   "metadata": {},
   "source": [
    "## Ejemplo 4: `apply`\n",
    "\n",
    "### 1. Objetivos:\n",
    "    - Usar `apply` para aplicar funciones a `Series` y `DataFrames`\n",
    " \n",
    "---\n",
    "    \n",
    "### 2. Desarrollo:"
   ]
  },
  {
   "cell_type": "code",
   "execution_count": 1,
   "metadata": {},
   "outputs": [],
   "source": [
    "import pandas as pd\n",
    "import numpy as np"
   ]
  },
  {
   "cell_type": "code",
   "execution_count": 2,
   "metadata": {},
   "outputs": [
    {
     "data": {
      "text/html": [
       "<div>\n",
       "<style scoped>\n",
       "    .dataframe tbody tr th:only-of-type {\n",
       "        vertical-align: middle;\n",
       "    }\n",
       "\n",
       "    .dataframe tbody tr th {\n",
       "        vertical-align: top;\n",
       "    }\n",
       "\n",
       "    .dataframe thead th {\n",
       "        text-align: right;\n",
       "    }\n",
       "</style>\n",
       "<table border=\"1\" class=\"dataframe\">\n",
       "  <thead>\n",
       "    <tr style=\"text-align: right;\">\n",
       "      <th></th>\n",
       "      <th>amazon_product_url</th>\n",
       "      <th>author</th>\n",
       "      <th>description</th>\n",
       "      <th>publisher</th>\n",
       "      <th>title</th>\n",
       "      <th>oid</th>\n",
       "      <th>bestsellers_date.numberLong</th>\n",
       "      <th>published_date.numberLong</th>\n",
       "      <th>rank.numberInt</th>\n",
       "      <th>rank_last_week.numberInt</th>\n",
       "      <th>weeks_on_list.numberInt</th>\n",
       "      <th>price.numberDouble</th>\n",
       "    </tr>\n",
       "  </thead>\n",
       "  <tbody>\n",
       "    <tr>\n",
       "      <th>0</th>\n",
       "      <td>http://www.amazon.com/The-Host-Novel-Stephenie...</td>\n",
       "      <td>Stephenie Meyer</td>\n",
       "      <td>Descr: Aliens have taken control of the minds ...</td>\n",
       "      <td>Little, Brown</td>\n",
       "      <td>THE HOST</td>\n",
       "      <td>5b4aa4ead3089013507db18c</td>\n",
       "      <td>2008-05-24 00:00:00</td>\n",
       "      <td>1212883200000</td>\n",
       "      <td>2</td>\n",
       "      <td>1</td>\n",
       "      <td>3</td>\n",
       "      <td>25.99</td>\n",
       "    </tr>\n",
       "    <tr>\n",
       "      <th>1</th>\n",
       "      <td>http://www.amazon.com/Love-Youre-With-Emily-Gi...</td>\n",
       "      <td>Emily Giffin</td>\n",
       "      <td>Descr: A woman's happy marriage is shaken when...</td>\n",
       "      <td>St. Martin's</td>\n",
       "      <td>LOVE THE ONE YOU'RE WITH</td>\n",
       "      <td>5b4aa4ead3089013507db18d</td>\n",
       "      <td>2008-05-24 00:00:00</td>\n",
       "      <td>1212883200000</td>\n",
       "      <td>3</td>\n",
       "      <td>2</td>\n",
       "      <td>2</td>\n",
       "      <td>24.95</td>\n",
       "    </tr>\n",
       "    <tr>\n",
       "      <th>2</th>\n",
       "      <td>http://www.amazon.com/The-Front-Garano-Patrici...</td>\n",
       "      <td>Patricia Cornwell</td>\n",
       "      <td>Descr: A Massachusetts state investigator and ...</td>\n",
       "      <td>Putnam</td>\n",
       "      <td>THE FRONT</td>\n",
       "      <td>5b4aa4ead3089013507db18e</td>\n",
       "      <td>2008-05-24 00:00:00</td>\n",
       "      <td>1212883200000</td>\n",
       "      <td>4</td>\n",
       "      <td>0</td>\n",
       "      <td>1</td>\n",
       "      <td>22.95</td>\n",
       "    </tr>\n",
       "    <tr>\n",
       "      <th>3</th>\n",
       "      <td>http://www.amazon.com/Snuff-Chuck-Palahniuk/dp...</td>\n",
       "      <td>Chuck Palahniuk</td>\n",
       "      <td>Descr: An aging porn queens aims to cap her ca...</td>\n",
       "      <td>Doubleday</td>\n",
       "      <td>SNUFF</td>\n",
       "      <td>5b4aa4ead3089013507db18f</td>\n",
       "      <td>2008-05-24 00:00:00</td>\n",
       "      <td>1212883200000</td>\n",
       "      <td>5</td>\n",
       "      <td>0</td>\n",
       "      <td>1</td>\n",
       "      <td>24.95</td>\n",
       "    </tr>\n",
       "    <tr>\n",
       "      <th>5</th>\n",
       "      <td>http://www.amazon.com/Phantom-Prey-John-Sandfo...</td>\n",
       "      <td>John Sandford</td>\n",
       "      <td>Descr: The Minneapolis detective Lucas Davenpo...</td>\n",
       "      <td>Putnam</td>\n",
       "      <td>PHANTOM PREY</td>\n",
       "      <td>5b4aa4ead3089013507db191</td>\n",
       "      <td>2008-05-24 00:00:00</td>\n",
       "      <td>1212883200000</td>\n",
       "      <td>7</td>\n",
       "      <td>4</td>\n",
       "      <td>3</td>\n",
       "      <td>26.95</td>\n",
       "    </tr>\n",
       "  </tbody>\n",
       "</table>\n",
       "</div>"
      ],
      "text/plain": [
       "                                  amazon_product_url             author  \\\n",
       "0  http://www.amazon.com/The-Host-Novel-Stephenie...    Stephenie Meyer   \n",
       "1  http://www.amazon.com/Love-Youre-With-Emily-Gi...       Emily Giffin   \n",
       "2  http://www.amazon.com/The-Front-Garano-Patrici...  Patricia Cornwell   \n",
       "3  http://www.amazon.com/Snuff-Chuck-Palahniuk/dp...    Chuck Palahniuk   \n",
       "5  http://www.amazon.com/Phantom-Prey-John-Sandfo...      John Sandford   \n",
       "\n",
       "                                         description      publisher  \\\n",
       "0  Descr: Aliens have taken control of the minds ...  Little, Brown   \n",
       "1  Descr: A woman's happy marriage is shaken when...   St. Martin's   \n",
       "2  Descr: A Massachusetts state investigator and ...         Putnam   \n",
       "3  Descr: An aging porn queens aims to cap her ca...      Doubleday   \n",
       "5  Descr: The Minneapolis detective Lucas Davenpo...         Putnam   \n",
       "\n",
       "                      title                       oid  \\\n",
       "0                  THE HOST  5b4aa4ead3089013507db18c   \n",
       "1  LOVE THE ONE YOU'RE WITH  5b4aa4ead3089013507db18d   \n",
       "2                 THE FRONT  5b4aa4ead3089013507db18e   \n",
       "3                     SNUFF  5b4aa4ead3089013507db18f   \n",
       "5              PHANTOM PREY  5b4aa4ead3089013507db191   \n",
       "\n",
       "  bestsellers_date.numberLong  published_date.numberLong rank.numberInt  \\\n",
       "0         2008-05-24 00:00:00              1212883200000              2   \n",
       "1         2008-05-24 00:00:00              1212883200000              3   \n",
       "2         2008-05-24 00:00:00              1212883200000              4   \n",
       "3         2008-05-24 00:00:00              1212883200000              5   \n",
       "5         2008-05-24 00:00:00              1212883200000              7   \n",
       "\n",
       "   rank_last_week.numberInt  weeks_on_list.numberInt  price.numberDouble  \n",
       "0                         1                        3               25.99  \n",
       "1                         2                        2               24.95  \n",
       "2                         0                        1               22.95  \n",
       "3                         0                        1               24.95  \n",
       "5                         4                        3               26.95  "
      ]
     },
     "execution_count": 2,
     "metadata": {},
     "output_type": "execute_result"
    }
   ],
   "source": [
    "df = pd.read_csv('../../Datasets/new_york_times_bestsellers-dirty.csv', index_col=0)\n",
    "df.head()"
   ]
  },
  {
   "cell_type": "markdown",
   "metadata": {},
   "source": [
    "Podemos aplicar funciones a nuestras `Series` con el método `apply`, así que vamos a convertir la fecha de la columna `published_date.numberLong` que está dado en milisegundos en formato Epoc o Timestamp a sólo tener el año de publicación:"
   ]
  },
  {
   "cell_type": "code",
   "execution_count": 5,
   "metadata": {},
   "outputs": [],
   "source": [
    "# tu función aquí"
   ]
  },
  {
   "cell_type": "code",
   "execution_count": null,
   "metadata": {},
   "outputs": [],
   "source": [
    "df['published_date.numberLong'].apply(anio_de_publicacion)"
   ]
  },
  {
   "cell_type": "markdown",
   "metadata": {},
   "source": [
    "O esta otra, obtener la semanas en listas, pero en porcentaje en base al máximo:"
   ]
  },
  {
   "cell_type": "code",
   "execution_count": 6,
   "metadata": {},
   "outputs": [],
   "source": [
    "# tu función aquí"
   ]
  },
  {
   "cell_type": "code",
   "execution_count": null,
   "metadata": {},
   "outputs": [],
   "source": [
    "df['weeks_on_list.numberInt'].apply(semanas_en_porcentaje, args=(df['weeks_on_list.numberInt'].max(),))"
   ]
  },
  {
   "cell_type": "markdown",
   "metadata": {},
   "source": [
    "Veremos cómo usar `apply` en `DataFrames` en un módulo posterior, ya que este dataset no se presta mucho para eso."
   ]
  },
  {
   "cell_type": "code",
   "execution_count": null,
   "metadata": {},
   "outputs": [],
   "source": []
  }
 ],
 "metadata": {
  "kernelspec": {
   "display_name": "Python 3",
   "language": "python",
   "name": "python3"
  },
  "language_info": {
   "codemirror_mode": {
    "name": "ipython",
    "version": 3
   },
   "file_extension": ".py",
   "mimetype": "text/x-python",
   "name": "python",
   "nbconvert_exporter": "python",
   "pygments_lexer": "ipython3",
   "version": "3.7.4"
  }
 },
 "nbformat": 4,
 "nbformat_minor": 4
}
