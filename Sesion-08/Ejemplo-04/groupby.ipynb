{
 "cells": [
  {
   "cell_type": "markdown",
   "metadata": {},
   "source": [
    "## Ejemplo 4: Agrupando datos con `groupby`\n",
    "\n",
    "### 1. Objetivos:\n",
    "    - Aprender a usar `group-by` para segmentar nuestros conjuntos de datos y aplicar funciones agregadoras a cada segmento.\n",
    " \n",
    "---\n",
    "    \n",
    "### 2. Desarrollo:"
   ]
  },
  {
   "cell_type": "markdown",
   "metadata": {},
   "source": [
    "#### a) Segmentando datos con `groupby`\n",
    "\n",
    "En nuestro Reto pasado construimos un nuevo conjunto de datos agregando la información de las tablas `occupations` y `age_ranges` a la tabla `users`. Vamos a leer este dataset primero:"
   ]
  },
  {
   "cell_type": "code",
   "execution_count": 1,
   "metadata": {},
   "outputs": [],
   "source": [
    "import pandas as pd"
   ]
  },
  {
   "cell_type": "code",
   "execution_count": 4,
   "metadata": {},
   "outputs": [
    {
     "data": {
      "text/html": [
       "<div>\n",
       "<style scoped>\n",
       "    .dataframe tbody tr th:only-of-type {\n",
       "        vertical-align: middle;\n",
       "    }\n",
       "\n",
       "    .dataframe tbody tr th {\n",
       "        vertical-align: top;\n",
       "    }\n",
       "\n",
       "    .dataframe thead th {\n",
       "        text-align: right;\n",
       "    }\n",
       "</style>\n",
       "<table border=\"1\" class=\"dataframe\">\n",
       "  <thead>\n",
       "    <tr style=\"text-align: right;\">\n",
       "      <th></th>\n",
       "      <th>gender</th>\n",
       "      <th>age_id</th>\n",
       "      <th>age_range</th>\n",
       "      <th>occupation_id</th>\n",
       "      <th>occupation</th>\n",
       "      <th>cp</th>\n",
       "    </tr>\n",
       "    <tr>\n",
       "      <th>user_id</th>\n",
       "      <th></th>\n",
       "      <th></th>\n",
       "      <th></th>\n",
       "      <th></th>\n",
       "      <th></th>\n",
       "      <th></th>\n",
       "    </tr>\n",
       "  </thead>\n",
       "  <tbody>\n",
       "    <tr>\n",
       "      <th>1</th>\n",
       "      <td>F</td>\n",
       "      <td>1</td>\n",
       "      <td>Under 18</td>\n",
       "      <td>10</td>\n",
       "      <td>K-12 student</td>\n",
       "      <td>48067</td>\n",
       "    </tr>\n",
       "    <tr>\n",
       "      <th>2</th>\n",
       "      <td>M</td>\n",
       "      <td>56</td>\n",
       "      <td>56+</td>\n",
       "      <td>16</td>\n",
       "      <td>self-employed</td>\n",
       "      <td>70072</td>\n",
       "    </tr>\n",
       "    <tr>\n",
       "      <th>3</th>\n",
       "      <td>M</td>\n",
       "      <td>25</td>\n",
       "      <td>25-34</td>\n",
       "      <td>15</td>\n",
       "      <td>scientist</td>\n",
       "      <td>55117</td>\n",
       "    </tr>\n",
       "  </tbody>\n",
       "</table>\n",
       "</div>"
      ],
      "text/plain": [
       "        gender  age_id age_range  occupation_id     occupation     cp\n",
       "user_id                                                              \n",
       "1            F       1  Under 18             10   K-12 student  48067\n",
       "2            M      56       56+             16  self-employed  70072\n",
       "3            M      25     25-34             15      scientist  55117"
      ]
     },
     "execution_count": 4,
     "metadata": {},
     "output_type": "execute_result"
    }
   ],
   "source": [
    "users = pd.read_csv(\n",
    "    '../../Datasets/MovieLens/users-full.csv', index_col=0)\n",
    "users.head(3)"
   ]
  },
  {
   "cell_type": "markdown",
   "metadata": {},
   "source": [
    "Vamos a ver qué pasa si agrupamos nuestro conjunto usando la columna `gender`:"
   ]
  },
  {
   "cell_type": "code",
   "execution_count": 5,
   "metadata": {},
   "outputs": [
    {
     "data": {
      "text/plain": [
       "<pandas.core.groupby.generic.DataFrameGroupBy object at 0x7f731f86cb50>"
      ]
     },
     "execution_count": 5,
     "metadata": {},
     "output_type": "execute_result"
    }
   ],
   "source": [
    "# tu código\n",
    "users.groupby(\"gender\")"
   ]
  },
  {
   "cell_type": "markdown",
   "metadata": {},
   "source": [
    "Para ver algún resultado más legible tenemos que aplicar funciones agregadoras a nuestro objeto `groupby`:"
   ]
  },
  {
   "cell_type": "code",
   "execution_count": 6,
   "metadata": {},
   "outputs": [
    {
     "data": {
      "text/plain": [
       "gender\n",
       "F    1709\n",
       "M    4331\n",
       "dtype: int64"
      ]
     },
     "execution_count": 6,
     "metadata": {},
     "output_type": "execute_result"
    }
   ],
   "source": [
    "# contamos\n",
    "users.groupby(\"gender\").size()"
   ]
  },
  {
   "cell_type": "markdown",
   "metadata": {},
   "source": [
    "`size` nos hace un conteo de cuántas muestras hay en cada grupo y regresa el total. Ahora podemos ver entonces que hay 1709 mujeres y 4331 hombres en nuestro dataset."
   ]
  },
  {
   "cell_type": "markdown",
   "metadata": {},
   "source": [
    "También podemos pedir columnas específicas de nuestros grupos y aplicar agregaciones a cada columna:"
   ]
  },
  {
   "cell_type": "code",
   "execution_count": 10,
   "metadata": {},
   "outputs": [
    {
     "data": {
      "text/plain": [
       "gender  occupation            \n",
       "F       college/grad student      234\n",
       "        other or not specified    232\n",
       "        academic/educator         209\n",
       "        executive/managerial      139\n",
       "        doctor/health care        102\n",
       "        clerical/admin            100\n",
       "        artist                     91\n",
       "        homemaker                  89\n",
       "        sales/marketing            79\n",
       "        writer                     78\n",
       "        K-12 student               66\n",
       "        technician/engineer        52\n",
       "        self-employed              51\n",
       "        programmer                 50\n",
       "        retired                    34\n",
       "        customer service           31\n",
       "        scientist                  28\n",
       "        lawyer                     22\n",
       "        unemployed                 15\n",
       "        tradesman/craftsman         4\n",
       "        farmer                      3\n",
       "M       executive/managerial      540\n",
       "        college/grad student      525\n",
       "        other or not specified    479\n",
       "        technician/engineer       450\n",
       "        programmer                338\n",
       "        academic/educator         319\n",
       "        sales/marketing           223\n",
       "        writer                    203\n",
       "        self-employed             190\n",
       "        artist                    176\n",
       "        doctor/health care        134\n",
       "        K-12 student              129\n",
       "        scientist                 116\n",
       "        retired                   108\n",
       "        lawyer                    107\n",
       "        customer service           81\n",
       "        clerical/admin             73\n",
       "        tradesman/craftsman        66\n",
       "        unemployed                 57\n",
       "        farmer                     14\n",
       "        homemaker                   3\n",
       "Name: occupation, dtype: int64"
      ]
     },
     "execution_count": 10,
     "metadata": {},
     "output_type": "execute_result"
    }
   ],
   "source": [
    "# contamos por otra columna\n",
    "users.groupby(\"gender\")[\"occupation\"].value_counts()"
   ]
  },
  {
   "cell_type": "markdown",
   "metadata": {},
   "source": [
    "Podemos usar dos o más columnas para agrupar también. Lo que sucede es que el dataset se agrupa usando la primer columna, y luego, dentro de cada grupo se hace una segunda agrupación usando la segunda columna:"
   ]
  },
  {
   "cell_type": "code",
   "execution_count": 14,
   "metadata": {},
   "outputs": [
    {
     "data": {
      "text/plain": [
       "gender  age_range  occupation            \n",
       "F       18-24      college/grad student      163\n",
       "                   other or not specified     32\n",
       "                   academic/educator          18\n",
       "                   sales/marketing            15\n",
       "                   writer                     14\n",
       "                                            ... \n",
       "M       Under 18   executive/managerial        1\n",
       "                   farmer                      1\n",
       "                   lawyer                      1\n",
       "                   programmer                  1\n",
       "                   retired                     1\n",
       "Name: occupation, Length: 241, dtype: int64"
      ]
     },
     "execution_count": 14,
     "metadata": {},
     "output_type": "execute_result"
    }
   ],
   "source": [
    "# agrupamos por más de una columna\n",
    "users.groupby(\n",
    "    [\"gender\", \"age_range\"])[\"occupation\"].value_counts()"
   ]
  },
  {
   "cell_type": "code",
   "execution_count": 15,
   "metadata": {},
   "outputs": [
    {
     "data": {
      "text/plain": [
       "gender  age_range\n",
       "F       18-24         298\n",
       "        25-34         558\n",
       "        35-44         338\n",
       "        45-49         189\n",
       "        50-55         146\n",
       "        56+           102\n",
       "        Under 18       78\n",
       "M       18-24         805\n",
       "        25-34        1538\n",
       "        35-44         855\n",
       "        45-49         361\n",
       "        50-55         350\n",
       "        56+           278\n",
       "        Under 18      144\n",
       "dtype: int64"
      ]
     },
     "execution_count": 15,
     "metadata": {},
     "output_type": "execute_result"
    }
   ],
   "source": [
    "users.groupby(\n",
    "    [\"gender\", \"age_range\"]).size()"
   ]
  },
  {
   "cell_type": "markdown",
   "metadata": {},
   "source": [
    "Aquí hemos segmentado nuestro dataset en dos niveles. En el primer nivel, podemos obtener datasets independientes para cada género:"
   ]
  },
  {
   "cell_type": "code",
   "execution_count": 16,
   "metadata": {},
   "outputs": [
    {
     "data": {
      "text/plain": [
       "gender  age_range  occupation            \n",
       "F       18-24      college/grad student      163\n",
       "                   other or not specified     32\n",
       "                   academic/educator          18\n",
       "                   sales/marketing            15\n",
       "                   writer                     14\n",
       "                                            ... \n",
       "M       Under 18   executive/managerial        1\n",
       "                   farmer                      1\n",
       "                   lawyer                      1\n",
       "                   programmer                  1\n",
       "                   retired                     1\n",
       "Name: occupation, Length: 241, dtype: int64"
      ]
     },
     "execution_count": 16,
     "metadata": {},
     "output_type": "execute_result"
    }
   ],
   "source": [
    "# guardamos nuestros resultados en otra variable\n",
    "users_counts = users.groupby(\n",
    "    [\"gender\", \"age_range\"])[\"occupation\"].value_counts()\n",
    "users_counts"
   ]
  },
  {
   "cell_type": "code",
   "execution_count": 17,
   "metadata": {},
   "outputs": [
    {
     "data": {
      "text/plain": [
       "age_range  occupation            \n",
       "18-24      college/grad student      163\n",
       "           other or not specified     32\n",
       "           academic/educator          18\n",
       "           sales/marketing            15\n",
       "           writer                     14\n",
       "                                    ... \n",
       "Under 18   other or not specified      9\n",
       "           artist                      2\n",
       "           unemployed                  2\n",
       "           academic/educator           1\n",
       "           executive/managerial        1\n",
       "Name: occupation, Length: 110, dtype: int64"
      ]
     },
     "execution_count": 17,
     "metadata": {},
     "output_type": "execute_result"
    }
   ],
   "source": [
    "# consultamos sólo para el genero Fem!\n",
    "users_counts.loc[\"F\"]"
   ]
  },
  {
   "cell_type": "markdown",
   "metadata": {},
   "source": [
    "En un segundo nivel, podemos obtener datasets por cada rango de edades en cada género:"
   ]
  },
  {
   "cell_type": "code",
   "execution_count": 18,
   "metadata": {},
   "outputs": [
    {
     "data": {
      "text/plain": [
       "occupation\n",
       "college/grad student      163\n",
       "other or not specified     32\n",
       "academic/educator          18\n",
       "sales/marketing            15\n",
       "writer                     14\n",
       "artist                      9\n",
       "clerical/admin              9\n",
       "technician/engineer         6\n",
       "unemployed                  6\n",
       "customer service            5\n",
       "homemaker                   5\n",
       "K-12 student                3\n",
       "doctor/health care          3\n",
       "executive/managerial        3\n",
       "programmer                  3\n",
       "self-employed               2\n",
       "lawyer                      1\n",
       "scientist                   1\n",
       "Name: occupation, dtype: int64"
      ]
     },
     "execution_count": 18,
     "metadata": {},
     "output_type": "execute_result"
    }
   ],
   "source": [
    "# consultamos un segundo nivel\n",
    "users_counts.loc[\"F\", \"18-24\"]"
   ]
  },
  {
   "cell_type": "markdown",
   "metadata": {},
   "source": [
    "¡Genial!"
   ]
  },
  {
   "cell_type": "code",
   "execution_count": 21,
   "metadata": {},
   "outputs": [
    {
     "name": "stdout",
     "output_type": "stream",
     "text": [
      "(1, 'a')\n",
      "(2, 'b')\n",
      "(3, 'c')\n",
      "(4, 'd')\n",
      "(5, 'e')\n"
     ]
    }
   ],
   "source": [
    "l = [1,2,3,4,5]\n",
    "m = [\"a\",\"b\",\"c\",\"d\",\"e\"]\n",
    "tabla = list(zip(l,m))\n",
    "for fila in tabla:\n",
    "    print(fila)"
   ]
  }
 ],
 "metadata": {
  "kernelspec": {
   "display_name": "Python 3",
   "language": "python",
   "name": "python3"
  },
  "language_info": {
   "codemirror_mode": {
    "name": "ipython",
    "version": 3
   },
   "file_extension": ".py",
   "mimetype": "text/x-python",
   "name": "python",
   "nbconvert_exporter": "python",
   "pygments_lexer": "ipython3",
   "version": "3.7.4"
  }
 },
 "nbformat": 4,
 "nbformat_minor": 4
}
