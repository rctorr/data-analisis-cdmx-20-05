{
 "cells": [
  {
   "cell_type": "markdown",
   "metadata": {},
   "source": [
    "## Ejemplo 1: Conectándose a una base de datos\n",
    "\n",
    "### 1. Objetivos:\n",
    "    - Usar un conector de python para conectarse a una base de datos.\n",
    " \n",
    "---\n",
    "    \n",
    "### 2. Desarrollo:"
   ]
  },
  {
   "cell_type": "markdown",
   "metadata": {},
   "source": [
    "#### a) Realizar una conexión y obtener un índice o cursor\n",
    "\n",
    "Para conectarnos necesitamos primero importar la librería:"
   ]
  },
  {
   "cell_type": "code",
   "execution_count": 6,
   "metadata": {},
   "outputs": [],
   "source": [
    "# import el módulo sqlite o mysql\n",
    "import sqlite3"
   ]
  },
  {
   "cell_type": "markdown",
   "metadata": {},
   "source": [
    "Para una conexión a SQLite necesitamos saber el nombre del archivo de la base de datos, algo como `mi_datos.sqlite3`.\n",
    "\n",
    "Para una conexión MySQL, Postgres, Oracle u otras necesitamos conocer las siguiente información:\n",
    "\n",
    "1. Host (localhost, 127.0.0.1, servidor.dominio.com)\n",
    "2. Puerto (3306 u otro)\n",
    "3. Usuario (fulanito)\n",
    "4. Contraseña (tiamida)\n",
    "5. Nombre de la base de datos (camino_al_exito)\n",
    "\n",
    "Todos esos datos los usamos para crear una conexión."
   ]
  },
  {
   "cell_type": "code",
   "execution_count": 9,
   "metadata": {},
   "outputs": [],
   "source": [
    "# realiza una conexión a la base de datos SQLite `movielens.sqlite3`\n",
    "# base_de_datos = \"../../Datasets/MovieLens/movielens.sqlite3\"\n",
    "base_de_datos = \"movielens.sqlite3\"\n",
    "conn = sqlite3.connect(base_de_datos)"
   ]
  },
  {
   "cell_type": "markdown",
   "metadata": {},
   "source": [
    "Ahora, para poder realizar modificaciones o consultas a nuestra base de datos, tenemos que crear un objeto llamado índice o `cursor`:"
   ]
  },
  {
   "cell_type": "code",
   "execution_count": 10,
   "metadata": {},
   "outputs": [],
   "source": [
    "# obtener el indice o cursos, es necesario?\n",
    "cur = conn.cursor()"
   ]
  },
  {
   "cell_type": "markdown",
   "metadata": {},
   "source": [
    "Éste objeto lo podemos usar para realizar cualquier consulta en lenguaje SQL. Por ejemplo, veamos qué tablas existen en nuestra base de datos:"
   ]
  },
  {
   "cell_type": "code",
   "execution_count": 11,
   "metadata": {},
   "outputs": [
    {
     "data": {
      "text/plain": [
       "<sqlite3.Cursor at 0x7fd113fc2030>"
      ]
     },
     "execution_count": 11,
     "metadata": {},
     "output_type": "execute_result"
    }
   ],
   "source": [
    "# Consulta SQL para mostrar lista tablas: SHOW TABLES;\n",
    "# En SQLite3: SELECT name FROM sqlite_master WHERE type='table'\n",
    "sql = \"SELECT name FROM sqlite_master WHERE type='table'\"\n",
    "# ejecuta la consulta\n",
    "cur.execute(sql)"
   ]
  },
  {
   "cell_type": "markdown",
   "metadata": {},
   "source": [
    "Después de ejecutar el comando, tenemos que extraer la información con la función `fetch()` o `fetchall()`:"
   ]
  },
  {
   "cell_type": "code",
   "execution_count": 12,
   "metadata": {},
   "outputs": [
    {
     "data": {
      "text/plain": [
       "[('occupations',), ('ratings',), ('users',), ('age_ranges',), ('movies',)]"
      ]
     },
     "execution_count": 12,
     "metadata": {},
     "output_type": "execute_result"
    }
   ],
   "source": [
    "# extraer los datos e imprimirlos\n",
    "resultados = cur.fetchall()\n",
    "resultados"
   ]
  },
  {
   "cell_type": "markdown",
   "metadata": {},
   "source": [
    "Listo. Sabemos que tenemos 5 tablas en nuestra base de datos."
   ]
  },
  {
   "cell_type": "markdown",
   "metadata": {},
   "source": [
    "Por último, es importante cerrar nuestro `cursor` para no utilizar memoria extra en nuestra computadora:"
   ]
  },
  {
   "cell_type": "code",
   "execution_count": 13,
   "metadata": {},
   "outputs": [],
   "source": [
    "# cerrar índice y base de datos\n",
    "cur.close()\n",
    "conn.close()"
   ]
  }
 ],
 "metadata": {
  "kernelspec": {
   "display_name": "Python 3",
   "language": "python",
   "name": "python3"
  },
  "language_info": {
   "codemirror_mode": {
    "name": "ipython",
    "version": 3
   },
   "file_extension": ".py",
   "mimetype": "text/x-python",
   "name": "python",
   "nbconvert_exporter": "python",
   "pygments_lexer": "ipython3",
   "version": "3.7.4"
  }
 },
 "nbformat": 4,
 "nbformat_minor": 4
}
