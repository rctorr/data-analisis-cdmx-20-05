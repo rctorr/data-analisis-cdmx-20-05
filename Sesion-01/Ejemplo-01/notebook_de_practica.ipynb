{
  "nbformat": 4,
  "nbformat_minor": 0,
  "metadata": {
    "kernelspec": {
      "display_name": "Python 3",
      "language": "python",
      "name": "python3"
    },
    "language_info": {
      "codemirror_mode": {
        "name": "ipython",
        "version": 3
      },
      "file_extension": ".py",
      "mimetype": "text/x-python",
      "name": "python",
      "nbconvert_exporter": "python",
      "pygments_lexer": "ipython3",
      "version": "3.7.4"
    },
    "colab": {
      "name": "notebook_de_practica.ipynb",
      "provenance": [],
      "collapsed_sections": []
    }
  },
  "cells": [
    {
      "cell_type": "markdown",
      "metadata": {
        "id": "MWudU5dFTxqg",
        "colab_type": "text"
      },
      "source": [
        "# Ejemplo 1: Esto es un Notebook de práctica\n",
        "\n",
        "---\n",
        "\n",
        "### 1. Objetivos:\n",
        "  - Repasar rápidamente cómo funciona Jupyter Notebooks para recordar lo que vimos en el Prework.\n",
        "  \n",
        "  \n",
        "### 2. Requisitos:\n",
        "  - Jupyter Notebooks instalado\n",
        " \n",
        "---"
      ]
    },
    {
      "cell_type": "markdown",
      "metadata": {
        "id": "qvBzFKiUTxqn",
        "colab_type": "text"
      },
      "source": [
        "En JN tenemos `modo comando` y `modo edición`. \n",
        "\n",
        "- Para entrar en `modo edición` > `return`\n",
        "- Para entrar en `modo comando` > `esc`\n",
        "\n",
        "- El `modo edición` sirve para editar celdas\n",
        "- El `modo comando` sirve para usar comandos de JN"
      ]
    },
    {
      "cell_type": "markdown",
      "metadata": {
        "id": "h6GbmKVaTxqo",
        "colab_type": "text"
      },
      "source": [
        "Para correr celdas, presionamos `shift + return`.\n",
        "\n",
        "- Una `celda markdown` (de texto), muestra el texto estilizado al ser corrida\n",
        "- Una `celda de código` corre el código que contiene y muestra el output debajo"
      ]
    },
    {
      "cell_type": "markdown",
      "metadata": {
        "id": "uySuwjMRTxqq",
        "colab_type": "text"
      },
      "source": [
        "1. Para cambiar una celda a `markdown`, selecciona la celda a cambiar, entra en `modo comando` y presiona `m`.\n",
        "2. Para cambiarla a `código` sigue el mismo proceso pero usa `y`."
      ]
    },
    {
      "cell_type": "markdown",
      "metadata": {
        "id": "LYGlZ0BOTxqv",
        "colab_type": "text"
      },
      "source": [
        "Esto es una celda de `codigo`"
      ]
    },
    {
      "cell_type": "markdown",
      "metadata": {
        "id": "1a1ak2LpXkf4",
        "colab_type": "text"
      },
      "source": [
        "Próxima sesión usamos Python Miniconda https://docs.conda.io/en/latest/miniconda.html"
      ]
    },
    {
      "cell_type": "code",
      "metadata": {
        "id": "Qe_1f8v2Txqx",
        "colab_type": "code",
        "colab": {}
      },
      "source": [
        "# Esto es una celda de código\n",
        "# Y yo soy un comentario, por cierto"
      ],
      "execution_count": 1,
      "outputs": []
    },
    {
      "cell_type": "markdown",
      "metadata": {
        "id": "taysjnjoTxrG",
        "colab_type": "text"
      },
      "source": [
        "Escribamos algo de código para correrlo:"
      ]
    },
    {
      "cell_type": "code",
      "metadata": {
        "id": "uk_OyNSfTxrJ",
        "colab_type": "code",
        "colab": {}
      },
      "source": [
        "# Escribe algo de código, crea la varibales var_1, var_2, y var_3\n",
        "var_1 = 10\n",
        "var_2 = 20\n",
        "var_3 = 100"
      ],
      "execution_count": 2,
      "outputs": []
    },
    {
      "cell_type": "markdown",
      "metadata": {
        "id": "IC_vJOiKTxra",
        "colab_type": "text"
      },
      "source": [
        "Seguro reconoces las variables y operadores matemáticos por el Prework.\n",
        "\n",
        "Cada vez que corremos una celda de código, aparece un contador a la izquierda.\n",
        "\n",
        "En la siguiente celda vamos a ver un `[3]` después de correrla:"
      ]
    },
    {
      "cell_type": "code",
      "metadata": {
        "id": "mnc6SoZRTxrt",
        "colab_type": "code",
        "colab": {
          "base_uri": "https://localhost:8080/",
          "height": 34
        },
        "outputId": "7c037600-cb68-442c-953a-4afab9534db6"
      },
      "source": [
        "# Resta el contenido de las variables var_1 menos var_3\n",
        "var_1 - var_3"
      ],
      "execution_count": 3,
      "outputs": [
        {
          "output_type": "execute_result",
          "data": {
            "text/plain": [
              "-90"
            ]
          },
          "metadata": {
            "tags": []
          },
          "execution_count": 3
        }
      ]
    },
    {
      "cell_type": "markdown",
      "metadata": {
        "id": "Ob0gw0jLTxr2",
        "colab_type": "text"
      },
      "source": [
        "Como puedes ver, podemos acceder a variables que asignamos en celdas pasadas (mientras la celda anterior ya haya sido corrida)"
      ]
    },
    {
      "cell_type": "markdown",
      "metadata": {
        "id": "-HlizhuSTxr8",
        "colab_type": "text"
      },
      "source": [
        "Para reiniciar nuestro JN, vamos al menú y elegimos `Kernel/Restart & Clear Output`"
      ]
    },
    {
      "cell_type": "markdown",
      "metadata": {
        "id": "N0DOMpYmTxr-",
        "colab_type": "text"
      },
      "source": [
        "También podemos compartir Notebooks o Cuadernos, para ello primero modifica esta celda escribiendo tu nombre: rctorr\n",
        "\n",
        "Ahora guarda el Cuaderno presionando control+s o comando+s\n",
        "\n",
        "Descarga el cuaderno de trabajo usando el menú Archivo -> Descargar\n",
        "\n",
        "Envía tu archivo con extensión .ipynb a alguno de tus compañeros\n",
        "\n",
        "Ahora el archivo .ipynb que recibies importalo usando la opción **Subir archivos** desde el administrador de archivos.\n",
        "\n",
        "Abre el Cuaderno importado y verifica que el nombre no sea el tuyo!"
      ]
    },
    {
      "cell_type": "markdown",
      "metadata": {
        "id": "V8ASahrFTxsF",
        "colab_type": "text"
      },
      "source": [
        "## **¡Estamos Listos!**"
      ]
    }
  ]
}