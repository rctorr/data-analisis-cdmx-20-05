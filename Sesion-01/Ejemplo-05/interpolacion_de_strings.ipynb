{
 "cells": [
  {
   "cell_type": "markdown",
   "metadata": {},
   "source": [
    "## Ejemplo 5: Interpolación de strings\n",
    "\n",
    "### 1. Objetivos:\n",
    "    - Aprender a imprimir strings\n",
    "    - Aprender a incluir variables dentro de strings\n",
    " \n",
    "---\n",
    "    \n",
    "### 2. Desarrollo:"
   ]
  },
  {
   "cell_type": "markdown",
   "metadata": {},
   "source": [
    "Imprime los siguientes resultados agregando un mensaje al usuario que indique el contexto del resultado."
   ]
  },
  {
   "cell_type": "code",
   "execution_count": 5,
   "metadata": {},
   "outputs": [
    {
     "name": "stdout",
     "output_type": "stream",
     "text": [
      "Subtotal: $ 3462.56 M.N.\n"
     ]
    }
   ],
   "source": [
    "# Este es el subtotal de una compra\n",
    "subtotal = 3462.56\n",
    "\n",
    "print(\"Subtotal: $\", subtotal, \"M.N.\")"
   ]
  },
  {
   "cell_type": "markdown",
   "metadata": {},
   "source": [
    "Pero a veces resulta necesario o deseable incluir el valor de la variable dentro de dicha string. Para eso utilizamos las llamadas `f-strings`. El formato de una `f-string` es el siguiente:\n",
    "\n",
    "`f\"Esto es texto {esto_es_una_variable} esto es más texto\"`\n",
    "\n",
    "Escribiendo una `f` antes de las comillas le indicamos a Python que lo que pongas dentro de las llaves (`{}`) será código de Python. En este caso, una variable asignada previamente.\n",
    "\n",
    "Ahora podemos hacer lo siguiente:"
   ]
  },
  {
   "cell_type": "code",
   "execution_count": 7,
   "metadata": {},
   "outputs": [
    {
     "name": "stdout",
     "output_type": "stream",
     "text": [
      "Subtotal: $3462.56 M.N.\n"
     ]
    }
   ],
   "source": [
    "# Este es el subtotal de una compra en moneda nacional\n",
    "subtotal = 3462.56\n",
    "\n",
    "print(f\"Subtotal: ${subtotal} M.N.\")"
   ]
  },
  {
   "cell_type": "markdown",
   "metadata": {},
   "source": [
    "O incluso puedes hacer algo como esto:"
   ]
  },
  {
   "cell_type": "code",
   "execution_count": 16,
   "metadata": {},
   "outputs": [
    {
     "name": "stdout",
     "output_type": "stream",
     "text": [
      "Total: $0004016.57 M.N. incluye 16% de iva\n"
     ]
    }
   ],
   "source": [
    "# Este es el total de una compra en moneda nacional e incluye iva\n",
    "subtotal = 3462.56\n",
    "tasa_iva = 0.16\n",
    "iva = subtotal * tasa_iva\n",
    "total = subtotal + iva\n",
    "\n",
    "print(f\"Total: ${total:010.2f} M.N. incluye {tasa_iva*100:.0f}% de iva\")"
   ]
  },
  {
   "cell_type": "markdown",
   "metadata": {},
   "source": [
    "Vas a ver muchas anotaciones como éstas a través del código de este módulo. Ahora ya sabes qué significan y cómo crearlas.\n",
    "\n",
    "Revisa el sitio https://pyformat.info"
   ]
  },
  {
   "cell_type": "markdown",
   "metadata": {},
   "source": [
    "---\n",
    "---\n",
    "## Reto 1: Interpolación de strings\n",
    "\n",
    "### 1. Objetivos:\n",
    "    - Practicar interpolación de strings\n",
    " \n",
    "---\n",
    "    \n",
    "### 2. Desarrollo:"
   ]
  },
  {
   "cell_type": "markdown",
   "metadata": {},
   "source": [
    "A continuación tienes algunas variables, imprime la fecha en el formato `2020-07-14`"
   ]
  },
  {
   "cell_type": "code",
   "execution_count": 17,
   "metadata": {},
   "outputs": [
    {
     "name": "stdout",
     "output_type": "stream",
     "text": [
      "2020-07-14\n"
     ]
    }
   ],
   "source": [
    "anio = 2020\n",
    "mes = 7\n",
    "dia = 14\n",
    "\n",
    "print(f\"{anio}-{mes:02}-{dia:02}\")"
   ]
  },
  {
   "cell_type": "markdown",
   "metadata": {},
   "source": [
    "A continuación tienes algunas variables, imprime la fecha en el formato `2020-10-05`"
   ]
  },
  {
   "cell_type": "code",
   "execution_count": 20,
   "metadata": {},
   "outputs": [
    {
     "name": "stdout",
     "output_type": "stream",
     "text": [
      "2020-10-05\n"
     ]
    }
   ],
   "source": [
    "anio = 2020\n",
    "mes = 10\n",
    "dia = 5\n",
    "\n",
    "print(f\"{anio}-{mes:02}-{dia:02}\")"
   ]
  },
  {
   "cell_type": "code",
   "execution_count": null,
   "metadata": {},
   "outputs": [],
   "source": []
  }
 ],
 "metadata": {
  "kernelspec": {
   "display_name": "Python 3",
   "language": "python",
   "name": "python3"
  },
  "language_info": {
   "codemirror_mode": {
    "name": "ipython",
    "version": 3
   },
   "file_extension": ".py",
   "mimetype": "text/x-python",
   "name": "python",
   "nbconvert_exporter": "python",
   "pygments_lexer": "ipython3",
   "version": "3.7.4"
  }
 },
 "nbformat": 4,
 "nbformat_minor": 4
}
