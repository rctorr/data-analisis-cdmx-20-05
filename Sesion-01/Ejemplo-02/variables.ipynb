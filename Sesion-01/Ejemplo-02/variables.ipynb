{
  "nbformat": 4,
  "nbformat_minor": 0,
  "metadata": {
    "kernelspec": {
      "display_name": "Python 3",
      "language": "python",
      "name": "python3"
    },
    "language_info": {
      "codemirror_mode": {
        "name": "ipython",
        "version": 3
      },
      "file_extension": ".py",
      "mimetype": "text/x-python",
      "name": "python",
      "nbconvert_exporter": "python",
      "pygments_lexer": "ipython3",
      "version": "3.7.4"
    },
    "colab": {
      "name": "variables.ipynb",
      "provenance": []
    }
  },
  "cells": [
    {
      "cell_type": "markdown",
      "metadata": {
        "id": "TxTA4QWHiNlF",
        "colab_type": "text"
      },
      "source": [
        "## Ejemplo 2: Variables\n",
        "\n",
        "### 1. Objetivos:\n",
        "\n",
        "- Entender cuál es la sintaxis de la asignación de variables en Python\n",
        "- Aprender la convención de nombramiento de variables"
      ]
    },
    {
      "cell_type": "markdown",
      "metadata": {
        "id": "a40rJJcziNlL",
        "colab_type": "text"
      },
      "source": [
        "### 2. Desarrollo:\n",
        "\n",
        "Las siguientes son nombres posibles de variables en Python:\n",
        "\n",
        "- var_1 (si)\n",
        "- variable_2 (si)\n",
        "- variable_dos (si)\n",
        "- variable_nueva_3 (si)\n",
        "- esta_es_una_variable_nueva (si-)\n",
        "- variableDosPrima (si)\n",
        "- VariableDos (no)\n",
        "- EstaEsUnaVariable (no)\n",
        "\n",
        "Los siguientes son nombres inválidos para una variable de Python:\n",
        "\n",
        "- 1_2\n",
        "- 1_variable\n",
        "- 1variable\n",
        "- Soy una variable\n",
        "- SoyUnaVariableEnEspañol (si, pero no!)\n",
        "\n",
        "Asignemos unas cuantas variables a continuación:"
      ]
    },
    {
      "cell_type": "code",
      "metadata": {
        "id": "3q_VWD1-iNlP",
        "colab_type": "code",
        "colab": {}
      },
      "source": [
        "# crea tres variables llamadas nombre, cantidad y precio\n",
        "nombre = \"rctorr\"  # tipo str\n",
        "cantidad_1 = 15  # tipo int\n",
        "cantidad_2 = 20\n",
        "cant_3 = 50\n",
        "precio = 1234.45  # tipo float"
      ],
      "execution_count": 10,
      "outputs": []
    },
    {
      "cell_type": "markdown",
      "metadata": {
        "id": "Bt5lhL36iNle",
        "colab_type": "text"
      },
      "source": [
        "Podemos acceder a su contenido con tan solo escribir el nombre de la variable en una celda y correr la celda (esto es gracias a Jupyter!):"
      ]
    },
    {
      "cell_type": "code",
      "metadata": {
        "id": "O8NuWBriiNlg",
        "colab_type": "code",
        "colab": {
          "base_uri": "https://localhost:8080/",
          "height": 34
        },
        "outputId": "c428184a-f68f-4624-9209-24bcda87290d"
      },
      "source": [
        "# nombre de variable a visualizar\n",
        "precio"
      ],
      "execution_count": 2,
      "outputs": [
        {
          "output_type": "execute_result",
          "data": {
            "text/plain": [
              "1234.45"
            ]
          },
          "metadata": {
            "tags": []
          },
          "execution_count": 2
        }
      ]
    },
    {
      "cell_type": "code",
      "metadata": {
        "id": "3anwn7b6iNlw",
        "colab_type": "code",
        "colab": {
          "base_uri": "https://localhost:8080/",
          "height": 34
        },
        "outputId": "4f0821c5-88d6-4604-e6bb-be8ff7bbff3c"
      },
      "source": [
        "# otro nombre de variable a visualizar\n",
        "nombre\n",
        "cantidad\n",
        "cantidad_2"
      ],
      "execution_count": 6,
      "outputs": [
        {
          "output_type": "execute_result",
          "data": {
            "text/plain": [
              "20"
            ]
          },
          "metadata": {
            "tags": []
          },
          "execution_count": 6
        }
      ]
    },
    {
      "cell_type": "markdown",
      "metadata": {
        "id": "_qtFHd3wiNl9",
        "colab_type": "text"
      },
      "source": [
        "Si intento llamar una variable que no he asignado, JN me va a lanzar un error:"
      ]
    },
    {
      "cell_type": "code",
      "metadata": {
        "id": "CEIf1KvkiNl_",
        "colab_type": "code",
        "colab": {
          "base_uri": "https://localhost:8080/",
          "height": 34
        },
        "outputId": "55fd88db-9f93-4ea5-a272-ccadce332fba"
      },
      "source": [
        "# escribe el nombre de una variable inexistente\n",
        "suma = 0\n",
        "# ...\n",
        "suma = suma + cant_3\n",
        "suma"
      ],
      "execution_count": 12,
      "outputs": [
        {
          "output_type": "execute_result",
          "data": {
            "text/plain": [
              "50"
            ]
          },
          "metadata": {
            "tags": []
          },
          "execution_count": 12
        }
      ]
    },
    {
      "cell_type": "markdown",
      "metadata": {
        "id": "JMIfpczGiNmQ",
        "colab_type": "text"
      },
      "source": [
        "De igual, manera, si escribo una asignación, pero no corro la celda, ésa variable no estará disponible para mí más adelante:"
      ]
    },
    {
      "cell_type": "code",
      "metadata": {
        "id": "JEuxKHraiNmV",
        "colab_type": "code",
        "colab": {}
      },
      "source": [
        "# asigna un valor a la variable fecha\n",
        "fecha = \"09072020\""
      ],
      "execution_count": 14,
      "outputs": []
    },
    {
      "cell_type": "code",
      "metadata": {
        "id": "VD3JFmwniNmx",
        "colab_type": "code",
        "colab": {
          "base_uri": "https://localhost:8080/",
          "height": 35
        },
        "outputId": "1d3fa123-d09b-4cc5-9abb-a61e18e7c3ba"
      },
      "source": [
        "fecha"
      ],
      "execution_count": 15,
      "outputs": [
        {
          "output_type": "execute_result",
          "data": {
            "application/vnd.google.colaboratory.intrinsic": {
              "type": "string"
            },
            "text/plain": [
              "'09072020'"
            ]
          },
          "metadata": {
            "tags": []
          },
          "execution_count": 15
        }
      ]
    },
    {
      "cell_type": "markdown",
      "metadata": {
        "id": "zcw9tQ3OiNm7",
        "colab_type": "text"
      },
      "source": [
        "Es hora de que tú practiques."
      ]
    },
    {
      "cell_type": "markdown",
      "metadata": {
        "id": "GBR6omqqiNm-",
        "colab_type": "text"
      },
      "source": [
        "---\n",
        "---\n",
        "## Reto 1: Variables\n",
        "\n",
        "### 1. Objetivos:\n",
        "    - Practicar convención de nombramiento y asignación de variables\n",
        " \n",
        "---\n",
        "    \n",
        "### 2. Desarrollo:"
      ]
    },
    {
      "cell_type": "markdown",
      "metadata": {
        "id": "BsmHi0nViNm_",
        "colab_type": "text"
      },
      "source": [
        "Comenta la línea de la siguiente celda, donde el nombre de una variable no sea válido y ejecuta la celda hasta que ya no obtengas errores. Los comentarios son texto que Python ignora a la hora de correr una celda. Nos sirven para hacer anotaciones. Un línea comentada es la que inicia con un símbolo de `#` (`# esto es un comentario`)."
      ]
    },
    {
      "cell_type": "code",
      "metadata": {
        "id": "1TjWQw65iNnB",
        "colab_type": "code",
        "colab": {
          "base_uri": "https://localhost:8080/",
          "height": 130
        },
        "outputId": "d0025658-1bb8-43be-b3d7-1a55e14d1820"
      },
      "source": [
        "var_1 = 5\n",
        "\n",
        "2_variable_nueva = 10\n",
        "\n",
        "Variable_nueva_3 = 11\n",
        "\n",
        "año_inicial = 2020\n",
        "\n",
        "varNueva4 = 44\n",
        "\n",
        "var_nuevaNumero = 98\n",
        "\n",
        "var_núm = 22\n",
        "\n",
        "VarNum = 11\n",
        "\n",
        "varNum = 11\n",
        "\n",
        "soyUnaVariable = 14"
      ],
      "execution_count": 18,
      "outputs": [
        {
          "output_type": "error",
          "ename": "SyntaxError",
          "evalue": "ignored",
          "traceback": [
            "\u001b[0;36m  File \u001b[0;32m\"<ipython-input-18-38fa0c2e70a9>\"\u001b[0;36m, line \u001b[0;32m3\u001b[0m\n\u001b[0;31m    2_variable_nueva = 10\u001b[0m\n\u001b[0m     ^\u001b[0m\n\u001b[0;31mSyntaxError\u001b[0m\u001b[0;31m:\u001b[0m invalid token\n"
          ]
        }
      ]
    },
    {
      "cell_type": "markdown",
      "metadata": {
        "id": "YnuXd4btiNnK",
        "colab_type": "text"
      },
      "source": [
        "Después comenta también la líneas de las variables que siendo válidas no es recomendable usar"
      ]
    },
    {
      "cell_type": "code",
      "metadata": {
        "id": "YFA7he39iNnM",
        "colab_type": "code",
        "colab": {}
      },
      "source": [
        ""
      ],
      "execution_count": null,
      "outputs": []
    }
  ]
}