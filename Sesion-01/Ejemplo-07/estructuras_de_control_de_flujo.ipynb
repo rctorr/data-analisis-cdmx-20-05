{
 "cells": [
  {
   "cell_type": "markdown",
   "metadata": {},
   "source": [
    "## Ejemplo 7: Estructuras de control de flujo\n",
    "\n",
    "### 1. Objetivos:\n",
    "    - Conocer las estructuras de control, cómo funcionan y para qué sirven\n",
    " \n",
    "---\n",
    "    \n",
    "### 2. Desarrollo:"
   ]
  },
  {
   "cell_type": "markdown",
   "metadata": {},
   "source": [
    "Queremos darle a nuestro programa la capacidad de tomar decisiones. Esto puede hacerse usando una `sentencia if`. Una `sentencia if` usa una comparación para obtener un booleano. Si el booleano es `True`, el bloque de la sentencia se corre. Si el booleano es `False` nos saltamos a lo que sigue después del bloque."
   ]
  },
  {
   "cell_type": "code",
   "execution_count": 9,
   "metadata": {},
   "outputs": [
    {
     "name": "stdout",
     "output_type": "stream",
     "text": [
      "Tienes 18 años\n"
     ]
    }
   ],
   "source": [
    "edad = 18  # Modifica el valor de edad y comprueba el resultado\n",
    "# imprime el mensaje \"Mayor de edad\", sólo si edad es mayor o igual a 18\n",
    "# ->\n",
    "print(f\"Tienes {edad} años\")"
   ]
  },
  {
   "cell_type": "markdown",
   "metadata": {},
   "source": [
    "Hay veces que queremos tener una acción cuando la comparación sea `False`. Para eso podemos usar una sentencia `else`. Piénsalo como preguntarse a uno mismo: \"Si meto mi mano a la bolsa y resulta que encuentro un billete de $50, me compro unos nachos; si no hay nada (de lo contrario), veré la película llorando de tristeza\".\n",
    "\n",
    "Ahora imprime el mensaje **Mayor de edad** cuando la variable `edad` sea mayor o igual a 18 y le mensaje **Menor de edad** en caso contrario. "
   ]
  },
  {
   "cell_type": "code",
   "execution_count": 10,
   "metadata": {},
   "outputs": [
    {
     "name": "stdout",
     "output_type": "stream",
     "text": [
      "Mayor de edad\n",
      "Menor de edad\n",
      "Tienes 18 años\n"
     ]
    }
   ],
   "source": [
    "edad = 18\n",
    "# ->\n",
    "print(\"Mayor de edad\")\n",
    "print(\"Menor de edad\")\n",
    "print(f\"Tienes {edad} años\")"
   ]
  },
  {
   "cell_type": "markdown",
   "metadata": {},
   "source": [
    "Si queremos que haya más de dos opciones, podemos agregar opciones usando la sentencia `elif`, incluye el mensaje de **Edad incorrecta** si la edad es 0 o menor."
   ]
  },
  {
   "cell_type": "code",
   "execution_count": 11,
   "metadata": {},
   "outputs": [
    {
     "name": "stdout",
     "output_type": "stream",
     "text": [
      "Mayor de edad\n",
      "Menor de edad\n",
      "Edad incorrecta\n",
      "Tienes 18 años\n"
     ]
    }
   ],
   "source": [
    "edad = 18  # Modifica el valor de edad y comprueba el resultado\n",
    "# ->\n",
    "print(\"Mayor de edad\")\n",
    "print(\"Menor de edad\")\n",
    "print(\"Edad incorrecta\")\n",
    "print(f\"Tienes {edad} años\")"
   ]
  },
  {
   "cell_type": "markdown",
   "metadata": {},
   "source": [
    "¿Puedes pensar bajo condiciones se correría la sentencia `else`?\n",
    "\n",
    "¡Vayamos al último reto de la sesión!"
   ]
  },
  {
   "cell_type": "markdown",
   "metadata": {},
   "source": [
    "---\n",
    "---\n",
    "## Reto 5: Estructuras de control de flujo\n",
    "\n",
    "### 1. Objetivos:\n",
    "    - Entender el funcionamiento de las estructuras de control de flujo a través de un reto\n",
    " \n",
    "---\n",
    "    \n",
    "### 2. Desarrollo:"
   ]
  },
  {
   "cell_type": "markdown",
   "metadata": {},
   "source": [
    "#### 1. Comparaciones numéricas\n",
    "\n",
    "Vamos a imaginar que estamos analizando un conjunto de datos que contiene las ventas anuales en pesos de unos vendedores que trabajan en nuestra empresa. Obtenemos el total de ventas anuales en pesos y lo tenemos asignado a la variable `ventas_anuales_totales`. Escribe una estructura de control que nos diga de cuánto va a ser el bono de nuestro empleado.\n",
    "\n",
    "Si las ventas son mayores a `$`1,000,000 el bono será de 20%; si son entre `$`700,000 y `$`1,000,000 el bono será de 15%; entre `$`400,000 y `$`700,000 el bono será de 10%; entre `$`100,00 y 400,000 el bono será de 5%; y debajo de `$`100,000 el bono será de 1%.\n",
    "\n",
    "Escribe tu estructura de control y, por ahora (más adelante tendremos más herramientas para hacer esto más interesante) imprime una string que diga de cuánto va a ser el bono.\n",
    "\n",
    "> Reto opcional: Agrega una variable `sueldo` que sea el sueldo de tu empleado y agrégale el porcentaje de bono a esa variable dependiendo de la condición que se cumpla. Después hasta el final imprime una string interpolada que diga algo como \"Felicidades, tu sueldo es x; tu bono es de x; y el total de sueldo con el bono incluido es de x\". !Para que esto funcione también debes de agregar una variable donde guardes la cantidad del bono!"
   ]
  },
  {
   "cell_type": "code",
   "execution_count": 13,
   "metadata": {},
   "outputs": [],
   "source": [
    "ventas_anuales_totales = 0 # Puedes cambiar para obtener diferentes resultados\n",
    "\n",
    "# OPCIONAL\n",
    "# sueldo = escribe aquí el suelo de tu empleado"
   ]
  },
  {
   "cell_type": "code",
   "execution_count": null,
   "metadata": {},
   "outputs": [],
   "source": [
    "# Escribe aquí tu código\n",
    "# ...\n",
    "# ..."
   ]
  },
  {
   "cell_type": "code",
   "execution_count": null,
   "metadata": {},
   "outputs": [],
   "source": []
  }
 ],
 "metadata": {
  "kernelspec": {
   "display_name": "Python 3",
   "language": "python",
   "name": "python3"
  },
  "language_info": {
   "codemirror_mode": {
    "name": "ipython",
    "version": 3
   },
   "file_extension": ".py",
   "mimetype": "text/x-python",
   "name": "python",
   "nbconvert_exporter": "python",
   "pygments_lexer": "ipython3",
   "version": "3.7.4"
  }
 },
 "nbformat": 4,
 "nbformat_minor": 4
}
