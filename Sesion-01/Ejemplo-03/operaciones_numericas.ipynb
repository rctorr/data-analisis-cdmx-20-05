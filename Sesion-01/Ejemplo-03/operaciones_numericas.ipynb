{
 "cells": [
  {
   "cell_type": "markdown",
   "metadata": {},
   "source": [
    "## Ejemplo 2: Operaciones numéricas\n",
    "\n",
    "### 1. Objetivos:\n",
    "\n",
    "- Mostrar cómo usar los operadores aritméticos\n",
    "- Practicar asignación de variables y output de celdas\n",
    "\n",
    "---\n",
    "\n",
    "### 2. Desarrollo:"
   ]
  },
  {
   "cell_type": "markdown",
   "metadata": {},
   "source": [
    "Se aplicará el uso de variables y operaciones calculando el área de una superficie circular cuyo radio es de 50 m. Imprimer el resultado incluyendo las unidades adecuadas.\n",
    "\n",
    "Primero para calcular el área de un círculo se hará uso de la fórmula:\n",
    "\n",
    "area = pi x radio²\n",
    "\n",
    "Entonces asignemos unas variables:"
   ]
  },
  {
   "cell_type": "code",
   "execution_count": 1,
   "metadata": {},
   "outputs": [],
   "source": [
    "# crea las variables pi y radio y asigna sus valores."
   ]
  },
  {
   "cell_type": "markdown",
   "metadata": {},
   "source": [
    "Para realizar operaciones numéricas con estas variables, basta con escribir la operación en una celda y correrla. Veremos el resultado debajo de la celda:"
   ]
  },
  {
   "cell_type": "code",
   "execution_count": 2,
   "metadata": {},
   "outputs": [],
   "source": [
    "# calcular el área del círculo"
   ]
  },
  {
   "cell_type": "markdown",
   "metadata": {},
   "source": [
    "Si queremos imprimir más de una operación en la misma celda o dar formato o incluir más información, podemos usar la función `print()`:"
   ]
  },
  {
   "cell_type": "code",
   "execution_count": 4,
   "metadata": {},
   "outputs": [],
   "source": [
    "# imprimir el área del círculo incluyendo unidades"
   ]
  },
  {
   "cell_type": "markdown",
   "metadata": {},
   "source": [
    "También podemos asignar los resultados de nuestras operaciones a otras variables:"
   ]
  },
  {
   "cell_type": "code",
   "execution_count": 6,
   "metadata": {},
   "outputs": [],
   "source": [
    "# calcula el área del círculo y asigna el valor a la variable area e imprime su valor"
   ]
  },
  {
   "cell_type": "code",
   "execution_count": 7,
   "metadata": {},
   "outputs": [],
   "source": [
    "# ahora imprime incluyendo unidades"
   ]
  },
  {
   "cell_type": "markdown",
   "metadata": {},
   "source": [
    "¡Hora de practicar!"
   ]
  },
  {
   "cell_type": "markdown",
   "metadata": {},
   "source": [
    "---\n",
    "---\n",
    "## Reto 1: Operaciones numéricas\n",
    "\n",
    "### 1. Objetivos:\n",
    "    - Practicar asignación de variables y operaciones aritméticas en Python\n",
    " \n",
    "---\n",
    "    \n",
    "### 2. Desarrollo:"
   ]
  },
  {
   "cell_type": "markdown",
   "metadata": {},
   "source": [
    "Calcula el volumen de la Tierra considerando que es idealmente esférica y cuyo radio es de 6.371 km.\n",
    "\n",
    "Primero para calcular el volumen se hará uso de la fórmula:\n",
    "\n",
    "volumen = 4 / 3 x pi x radio³\n",
    "\n",
    "Asignación de variables:"
   ]
  },
  {
   "cell_type": "code",
   "execution_count": 8,
   "metadata": {},
   "outputs": [],
   "source": [
    "# asigna la variables necesarias"
   ]
  },
  {
   "cell_type": "code",
   "execution_count": 9,
   "metadata": {},
   "outputs": [],
   "source": [
    "# calcula el volumen aplicando la fórmula"
   ]
  },
  {
   "cell_type": "code",
   "execution_count": 10,
   "metadata": {},
   "outputs": [],
   "source": [
    "# imprime el resultado incluyendo unidades"
   ]
  },
  {
   "cell_type": "code",
   "execution_count": null,
   "metadata": {},
   "outputs": [],
   "source": []
  }
 ],
 "metadata": {
  "kernelspec": {
   "display_name": "Python 3",
   "language": "python",
   "name": "python3"
  },
  "language_info": {
   "codemirror_mode": {
    "name": "ipython",
    "version": 3
   },
   "file_extension": ".py",
   "mimetype": "text/x-python",
   "name": "python",
   "nbconvert_exporter": "python",
   "pygments_lexer": "ipython3",
   "version": "3.7.4"
  }
 },
 "nbformat": 4,
 "nbformat_minor": 4
}
