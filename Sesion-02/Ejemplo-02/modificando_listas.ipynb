{
 "cells": [
  {
   "cell_type": "markdown",
   "metadata": {},
   "source": [
    "## Ejemplo 2: Modificando listas\n",
    "\n",
    "### 1. Objetivos:\n",
    "    - Conocer los 2 métodos básicos que tenemos para modificar listas\n",
    " \n",
    "---\n",
    "    \n",
    "### 2. Desarrollo:"
   ]
  },
  {
   "cell_type": "markdown",
   "metadata": {},
   "source": [
    "#### Append agrega un elemento al final de la lista\n",
    "\n",
    "Crea una lista que represente los datos de un libro, construye la lista haciendo uso de `append`"
   ]
  },
  {
   "cell_type": "code",
   "execution_count": 3,
   "metadata": {},
   "outputs": [
    {
     "data": {
      "text/plain": [
       "['001', 'La trensa dorada', 420]"
      ]
     },
     "execution_count": 3,
     "metadata": {},
     "output_type": "execute_result"
    }
   ],
   "source": [
    "libro_1 = []\n",
    "\n",
    "# tu código aquí\n",
    "libro_1.append(\"001\")\n",
    "libro_1.append(\"La trensa dorada\")\n",
    "libro_1.append(420)\n",
    "libro_1"
   ]
  },
  {
   "cell_type": "markdown",
   "metadata": {},
   "source": [
    "Crea una lista que repesente una lista de libros"
   ]
  },
  {
   "cell_type": "code",
   "execution_count": 7,
   "metadata": {},
   "outputs": [
    {
     "data": {
      "text/plain": [
       "[['001', 'La trensa dorada', 420],\n",
       " ['002', 'La meta', 150],\n",
       " ['003', 'Momo', 180],\n",
       " ['004', 'El arte de la guerra', 100],\n",
       " ['002', 'La meta', 150],\n",
       " ['003', 'Momo', 180]]"
      ]
     },
     "execution_count": 7,
     "metadata": {},
     "output_type": "execute_result"
    }
   ],
   "source": [
    "libro_2 = [\"002\", \"La meta\", 150]  # modifica esta línea\n",
    "libro_3 = [\"003\", \"Momo\", 180]  # modifica esta línea\n",
    "\n",
    "# tu código aquí\n",
    "libros = [libro_1]\n",
    "libros.append(libro_2)\n",
    "libros.append(libro_3)\n",
    "\n",
    "# Agrega un libro sin el uso de una variable\n",
    "libros.append([\"004\", \"El arte de la guerra\", 100])\n",
    "libros = libros + [libro_2, libro_3]\n",
    "libros"
   ]
  },
  {
   "cell_type": "markdown",
   "metadata": {},
   "source": [
    "Crea e imprime una lista con los dos primeros libros"
   ]
  },
  {
   "cell_type": "code",
   "execution_count": 10,
   "metadata": {},
   "outputs": [
    {
     "data": {
      "text/plain": [
       "[['001', 'La trensa dorada', 420], ['002', 'La meta', 150]]"
      ]
     },
     "execution_count": 10,
     "metadata": {},
     "output_type": "execute_result"
    }
   ],
   "source": [
    "# tu código aquí\n",
    "sublista = libros[0:2]  # [0, 2) Tomar los dos primeros elementos\n",
    "sublista"
   ]
  },
  {
   "cell_type": "markdown",
   "metadata": {},
   "source": [
    "---\n",
    "---\n",
    "## Reto 2: Modificando listas\n",
    "\n",
    "### 1. Objetivos:\n",
    "    - Practicar el uso de los métodos `append`\n",
    "    \n",
    "---\n",
    "    \n",
    "### 2. Desarrollo:"
   ]
  },
  {
   "cell_type": "markdown",
   "metadata": {},
   "source": [
    "#### a) Eliminando duplicados\n",
    "\n",
    "Crea una variable `libro_5` cuyo valor sean los datos de algún libro que ya hayas agregado y luego inserta el libro en la lista de libros e imprime la lista. Corrobora que ahora tienen un libro duplicado. ¿Cómo le haría para envitar que se agreguen libros duplicados a tu lista?"
   ]
  },
  {
   "cell_type": "code",
   "execution_count": 17,
   "metadata": {},
   "outputs": [
    {
     "name": "stdout",
     "output_type": "stream",
     "text": [
      "Libro repetido\n"
     ]
    },
    {
     "data": {
      "text/plain": [
       "[['001', 'La trensa dorada', 420],\n",
       " ['002', 'La meta', 150],\n",
       " ['003', 'Momo', 180],\n",
       " ['004', 'El arte de la guerra', 100],\n",
       " ['002', 'La meta', 150]]"
      ]
     },
     "execution_count": 17,
     "metadata": {},
     "output_type": "execute_result"
    }
   ],
   "source": [
    "libro_5 = ['003', 'Momo', 180]  # crea un libro duplicado\n",
    "# si libro_5 no está en libros entonces:\n",
    "if libro_5 not in libros: \n",
    "    # cuando no está el libro\n",
    "    libros.append(libro_5)\n",
    "else:  # cuando si esta el libro\n",
    "    print(\"Libro repetido\")\n",
    "libros"
   ]
  },
  {
   "cell_type": "code",
   "execution_count": null,
   "metadata": {},
   "outputs": [],
   "source": []
  }
 ],
 "metadata": {
  "kernelspec": {
   "display_name": "Python 3",
   "language": "python",
   "name": "python3"
  },
  "language_info": {
   "codemirror_mode": {
    "name": "ipython",
    "version": 3
   },
   "file_extension": ".py",
   "mimetype": "text/x-python",
   "name": "python",
   "nbconvert_exporter": "python",
   "pygments_lexer": "ipython3",
   "version": "3.7.4"
  }
 },
 "nbformat": 4,
 "nbformat_minor": 4
}
