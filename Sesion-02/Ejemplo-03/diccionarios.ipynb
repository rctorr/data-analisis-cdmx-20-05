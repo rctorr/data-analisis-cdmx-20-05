{
 "cells": [
  {
   "cell_type": "markdown",
   "metadata": {},
   "source": [
    "## Ejemplo 3: Creando y accesando diccionarios\n",
    "\n",
    "### 1. Objetivos:\n",
    "    - Aprender a crear diccionarios con pares llaves-valor\n",
    "    - Aprender a acceder a los valores guardados en el diccionario\n",
    "    \n",
    "---\n",
    "    \n",
    "### 2. Desarrollo:"
   ]
  },
  {
   "cell_type": "markdown",
   "metadata": {},
   "source": [
    "Los diccionarios se definen usando llaves (`{}`), ahora crea un diccionario que almacene las ventas totales del mes de Enero por $2,000,000.00."
   ]
  },
  {
   "cell_type": "code",
   "execution_count": 3,
   "metadata": {},
   "outputs": [],
   "source": [
    "ventas_1 = {}\n",
    "\n",
    "# tu código aquí"
   ]
  },
  {
   "cell_type": "markdown",
   "metadata": {},
   "source": [
    "Nuestras llaves pueden ser tanto `strings` como `ints` (pueden ser otras cosas, pero estos son los más comunes), ahora construye una lista de diccionarios para incluir las ventas de los meses de:\n",
    "\n",
    "- Febrero, \\$350000.00\n",
    "- Marzo, \\$390000.00\n",
    "- Abril, \\$279000.00\n",
    "- Mayo, \\$432000.00\n",
    "\n",
    "adicionales al mes de enero e imprime la lista resultante"
   ]
  },
  {
   "cell_type": "code",
   "execution_count": 4,
   "metadata": {},
   "outputs": [],
   "source": [
    "ventas_por_mes = []\n",
    "\n",
    "# tu código aquí"
   ]
  },
  {
   "cell_type": "markdown",
   "metadata": {},
   "source": [
    "¿Habría alguna otra forma de almacenar estos valores?"
   ]
  },
  {
   "cell_type": "code",
   "execution_count": 5,
   "metadata": {},
   "outputs": [],
   "source": [
    "# tu código aquí"
   ]
  },
  {
   "cell_type": "markdown",
   "metadata": {},
   "source": [
    "---\n",
    "---\n",
    "## Reto 3: Creando y accesando diccionarios\n",
    "\n",
    "### 1. Objetivos:\n",
    "    - Entender cómo crear diccionarios y cómo acceder a ellos\n",
    " \n",
    "---\n",
    "    \n",
    "### 2. Desarrollo:"
   ]
  },
  {
   "cell_type": "markdown",
   "metadata": {},
   "source": [
    "Debajo hemos definido un diccionario. Este diccionario se encuentra incompleto, aunque no lo parezca:"
   ]
  },
  {
   "cell_type": "code",
   "execution_count": 1,
   "metadata": {},
   "outputs": [],
   "source": [
    "ventas_mensuales = {\n",
    "    \"fecha_de_corte\": \"01/05/2020\",\n",
    "    \"unidad\": \"Aragón\",\n",
    "    # Tu código va aquí\n",
    "    #...\n",
    "}"
   ]
  },
  {
   "cell_type": "markdown",
   "metadata": {},
   "source": [
    "Debajo tenemos algunos procedimientos que han sido realizados utilizando este diccionario. Como puedes ver, algunos de los accesos que se están haciendo van a fallar porque el diccionario `ventas_mensuales` no está completo:"
   ]
  },
  {
   "cell_type": "code",
   "execution_count": null,
   "metadata": {},
   "outputs": [],
   "source": [
    "ventas_totales_de_insumos = ventas_mensuales[\"ventas_pasteleria\"] + ventas_mensuales[\"ventas_panaderia\"]\n",
    "ganancias_totales = ventas_mensuales[\"ganancias_pasteleria\"] + ventas_mensuales[\"ganancias_panaderia\"]\n",
    "ganancias_netas = ganancias_totales - ventas_mensuales[\"gastos_mensuales_totales\"]\n",
    "\n",
    "print(f'==Resumen de ventas mensuales de la unidad {ventas_mensuales[\"unidad\"]}==/n')\n",
    "print(f'Fecha de corte: {ventas_mensuales[\"fecha_de_corte\"]}/n')\n",
    "print(f'  - Ventas totales de insumos: {ventas_totales_de_insumos}')\n",
    "print(f'  - Ganancias totales: {ganancias_totales}')\n",
    "print(f'  - Ganancias netas: {ganancias_netas}')\n",
    "print(f'\\n')\n",
    "print(f'(Información recabada por: {ventas_mensuales[\"analista\"]})')"
   ]
  },
  {
   "cell_type": "markdown",
   "metadata": {},
   "source": [
    "Completa el diccionario `ventas_mensuales` para que el código que imprime el resumen de las ventas funcione correctamente."
   ]
  },
  {
   "cell_type": "markdown",
   "metadata": {},
   "source": [
    "## Modificando diccionarios\n",
    "\n",
    "### 1. Objetivos:\n",
    "    - Practicar agregar datos, modificar datos y eliminar datos de diccionarios\n",
    " \n",
    "---\n",
    "    \n",
    "### 2. Desarrollo:"
   ]
  },
  {
   "cell_type": "markdown",
   "metadata": {},
   "source": [
    "Debajo tienes un diccionario que contiene algo de información sobre una persona:"
   ]
  },
  {
   "cell_type": "code",
   "execution_count": null,
   "metadata": {},
   "outputs": [],
   "source": [
    "registro = {\n",
    "    \"id\": \"23f-58j-kju7-54re\",\n",
    "    \"nombre\": \"Alberto\",\n",
    "    \"apellido_materno\": \"Gutierrez\",\n",
    "    \"apellido_paterno\": \"Sosa\",\n",
    "    \"profesion\": \"Contador\",\n",
    "    \"ultimo_nivel_de_estudios\": \"Maestría\",\n",
    "    \"lugar_de_estudios\": \"UAM\",\n",
    "    \"numero_de_cuenta\": \"25367890\",\n",
    "    \"nip_de_cajero\": \"142\"\n",
    "}\n",
    "\n",
    "# Tu código va aquí\n",
    "# ...\n",
    "# ..."
   ]
  },
  {
   "cell_type": "markdown",
   "metadata": {},
   "source": [
    "Ahora, tenemos una serie de `prints` que imprimen esta información en forma de tabla:"
   ]
  },
  {
   "cell_type": "code",
   "execution_count": null,
   "metadata": {},
   "outputs": [],
   "source": [
    "print(f'Registro con id: {registro[\"id\"]}\\n')\n",
    "print(f'---------------------------------------\\n')\n",
    "print(f'{(\"Nombre\"):25} | {registro[\"nombre\"]:25}')\n",
    "print(f'{(\"Apellido Materno\"):25} | {registro[\"apellido_materno\"]:25}')\n",
    "print(f'{(\"Apellido Paterno\"):25} | {registro[\"apellido_paterno\"]:25}')\n",
    "print(f'{(\"Profesión\"):25} | {registro[\"profesion\"]:25}')\n",
    "print(f'{(\"Último nivel de estudios\"):25} | {registro[\"ultimo_nivel_de_estudios\"]:25}')\n",
    "print(f'{(\"Lugar de estudios\"):25} | {registro[\"lugar_de_estudios\"]:25}')\n",
    "print(f'{(\"Fecha de nacimiento\"):25} | {registro[\"fecha_de_nacimiento\"]:25}')\n",
    "print(f'{(\"Lugar de nacimiento\"):25} | {registro[\"lugar_de_nacimiento\"]:25}')"
   ]
  },
  {
   "cell_type": "markdown",
   "metadata": {},
   "source": [
    "La actividad tienen 3 partes:\n",
    "\n",
    "1. Usando la técnica para modificar valores en un diccionario, cambia la información del diccionario para que sea la tuya.\n",
    "2. Usando la técnica para agregar datos al diccionario agrega las llaves que estén siendo accesadas en el `print` pero que no han sido agregadas al diccionario.\n",
    "3. Usando la técnica para eliminar datos del diccionario, elimina los datos sensibles que no quieras que estén incluidos en el diccionario.\n"
   ]
  },
  {
   "cell_type": "code",
   "execution_count": null,
   "metadata": {},
   "outputs": [],
   "source": []
  }
 ],
 "metadata": {
  "kernelspec": {
   "display_name": "Python 3",
   "language": "python",
   "name": "python3"
  },
  "language_info": {
   "codemirror_mode": {
    "name": "ipython",
    "version": 3
   },
   "file_extension": ".py",
   "mimetype": "text/x-python",
   "name": "python",
   "nbconvert_exporter": "python",
   "pygments_lexer": "ipython3",
   "version": "3.7.4"
  }
 },
 "nbformat": 4,
 "nbformat_minor": 4
}
