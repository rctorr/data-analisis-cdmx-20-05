{
 "cells": [
  {
   "cell_type": "markdown",
   "metadata": {},
   "source": [
    "## Ejemplo 1: Listas\n",
    "\n",
    "### 1. Objetivos:\n",
    "    - Entender la sintaxis de las listas en Python\n",
    "    - Aprender a crear listas y accesarlas\n",
    " \n",
    "---\n",
    "    \n",
    "### 2. Desarrollo:"
   ]
  },
  {
   "cell_type": "markdown",
   "metadata": {},
   "source": [
    "#### Creando listas y accediendo a ellas\n",
    "\n",
    "Crea una lista con 10 números enteros de forma aleatoria"
   ]
  },
  {
   "cell_type": "code",
   "execution_count": 6,
   "metadata": {},
   "outputs": [],
   "source": [
    "lista_1 = [11, 3, 23, 48, 1_000_000, 7, 11, 52, 10, 500]"
   ]
  },
  {
   "cell_type": "markdown",
   "metadata": {},
   "source": [
    "Cada elemento en la lista tiene un índice, que se usa para poder acceder a dicho elemento. Dado que las listas son ordenadas, los índices se van asignando secuencialmente desde el primer elemento hasta el último. El primer índice es siempre `0`, y por lo tanto el último índice es siempre `n - 1`, donde `n` es el número total de elementos en la lista."
   ]
  },
  {
   "cell_type": "markdown",
   "metadata": {},
   "source": [
    "Imprime el primer elemento, el quinto elemento y el último elemento de la lista creada anteriormente."
   ]
  },
  {
   "cell_type": "code",
   "execution_count": 20,
   "metadata": {},
   "outputs": [
    {
     "name": "stdout",
     "output_type": "stream",
     "text": [
      "11 1000000\n"
     ]
    }
   ],
   "source": [
    "# tu código aquí\n",
    "lista_1[0]\n",
    "lista_1[4]\n",
    "lista_1[9]\n",
    "lista_1[len(lista_1)-1]\n",
    "print(lista_1[0], lista_1[4])"
   ]
  },
  {
   "cell_type": "markdown",
   "metadata": {},
   "source": [
    "Si intentamos acceder a un índice que no existe, porque no hay suficientes elementos en la lista, Python nos da un error:"
   ]
  },
  {
   "cell_type": "code",
   "execution_count": 5,
   "metadata": {},
   "outputs": [],
   "source": [
    "# tu código aquí"
   ]
  },
  {
   "cell_type": "markdown",
   "metadata": {},
   "source": [
    "Dado que es difícil saber cuántos elementos hay en una lista, a menos que nos pongamos a contar, hay algo que podemos hacer para acceder a los últimos elementos de una lista sin arriesgarnos a tener un error:"
   ]
  },
  {
   "cell_type": "markdown",
   "metadata": {},
   "source": [
    "- Python nos permite acceder a los elementos empezando desde el último elemento hasta el primero (al revés, pues). Esto se hace usando números negativos. O sea que para acceder al último número puedo usar un `-1`, para acceder al penúltimo número puedo usar `-2` y así consecutivamente:"
   ]
  },
  {
   "cell_type": "markdown",
   "metadata": {},
   "source": [
    "Imprime los últimos 3 elementos de la lista"
   ]
  },
  {
   "cell_type": "code",
   "execution_count": 21,
   "metadata": {},
   "outputs": [
    {
     "name": "stdout",
     "output_type": "stream",
     "text": [
      "52\n",
      "10\n",
      "500\n"
     ]
    }
   ],
   "source": [
    "# tu código aquí\n",
    "print(lista_1[-3])  # ante penúltimo elemento\n",
    "print(lista_1[-2])  # penúltimo elemento\n",
    "print(lista_1[-1])  # último elemento"
   ]
  },
  {
   "cell_type": "markdown",
   "metadata": {},
   "source": [
    "Como podrás imaginar, no solamente podemos guardar datos crudos en una lista (`1, 2, 3, 4, etc`). Podemos guardar datos en variables y luego guardar esas variables en la lista.\n",
    "\n",
    "Crea una lista con el contenido de las siguiente variables e imprime la lista"
   ]
  },
  {
   "cell_type": "code",
   "execution_count": 22,
   "metadata": {},
   "outputs": [
    {
     "data": {
      "text/plain": [
       "[2, 'CDMX', 12345.67]"
      ]
     },
     "execution_count": 22,
     "metadata": {},
     "output_type": "execute_result"
    }
   ],
   "source": [
    "folio = 2\n",
    "lugar = \"CDMX\"\n",
    "ingresos = 12345.67\n",
    "\n",
    "# tu código aquí\n",
    "zona_1 = [folio, lugar, ingresos]\n",
    "zona_1"
   ]
  },
  {
   "cell_type": "markdown",
   "metadata": {},
   "source": [
    "#### Imprime una lista con formato\n",
    "\n",
    "Imprime la lista creada anteriormente incluyendo formato"
   ]
  },
  {
   "cell_type": "code",
   "execution_count": 24,
   "metadata": {},
   "outputs": [
    {
     "name": "stdout",
     "output_type": "stream",
     "text": [
      "2 | CDMX | $  12345.67 M.N.\n"
     ]
    }
   ],
   "source": [
    "# tu código aquí\n",
    "print(f\"{zona_1[0]} | {zona_1[1]} | ${zona_1[2]:10.2f} M.N.\")"
   ]
  },
  {
   "cell_type": "code",
   "execution_count": 29,
   "metadata": {},
   "outputs": [
    {
     "name": "stdout",
     "output_type": "stream",
     "text": [
      "2 | CDMX | $  12345.67 M.N.\n"
     ]
    }
   ],
   "source": [
    "print(\"{} | {} | ${:10.2f} M.N.\".format(*zona_1))"
   ]
  },
  {
   "cell_type": "markdown",
   "metadata": {},
   "source": [
    "#### Tipos de datos en una lista\n",
    "\n",
    "Como vimos en el Prework, una lista puede contener cualquier tipo de dato de los que ya conocemos (incluso otras listas)."
   ]
  },
  {
   "cell_type": "code",
   "execution_count": 30,
   "metadata": {},
   "outputs": [],
   "source": [
    "lista_de_ints = [1, 5, 8, 77, 45, 30]\n",
    "lista_de_floats = [2.4, 5.67, 8.7, 9.34]\n",
    "lista_de_strings = [\"Juan\", \"Pepe\", \"Pedro\", \"Jose\"]\n",
    "lista_de_booleanos = [True, False, False, True, False]\n",
    "lista_de_listas_de_ints = [[3, 4, 6], [7, 8, 9], [4, 6, 2]]"
   ]
  },
  {
   "cell_type": "markdown",
   "metadata": {},
   "source": [
    "A pesar de que Python nos permite guardar diversos tipos de datos en una sola lista, aprendimos que la mejor práctica es evitar esto y guardar un solo tipo de dato por lista"
   ]
  },
  {
   "cell_type": "markdown",
   "metadata": {},
   "source": [
    "## Reto 1: Creando listas y accediendo a ellas\n",
    "\n",
    "### 1. Objetivos:\n",
    "    - Practicar crear listas con valores crudos y variables\n",
    "    - Practicar acceder a listas usando índices\n",
    " \n",
    "---\n",
    "    \n",
    "### 2. Desarrollo:"
   ]
  },
  {
   "cell_type": "markdown",
   "metadata": {},
   "source": [
    "#### Definiendo una lista\n",
    "\n",
    "Debajo de esta celda hay un nombre de una variable que aún no ha sido asignada:"
   ]
  },
  {
   "cell_type": "code",
   "execution_count": 10,
   "metadata": {},
   "outputs": [],
   "source": [
    "mi_informacion = []  # modifica esta lista"
   ]
  },
  {
   "cell_type": "markdown",
   "metadata": {},
   "source": [
    "Ahora, tenemos un `print` que imprime una string formateada para mostrar cierta información acerca de ti (Las triples comillas `'''` nos sirven para generar strings de varias líneas):"
   ]
  },
  {
   "cell_type": "code",
   "execution_count": 34,
   "metadata": {
    "collapsed": true,
    "jupyter": {
     "outputs_hidden": true,
     "source_hidden": true
    }
   },
   "outputs": [
    {
     "name": "stdout",
     "output_type": "stream",
     "text": [
      "\n",
      "Linea 1\n",
      "Linea 2\n",
      "...\n",
      "Linea n\n",
      "\n"
     ]
    }
   ],
   "source": [
    "a = \"\"\"\n",
    "Linea 1\n",
    "Linea 2\n",
    "...\n",
    "Linea n\n",
    "\"\"\"\n",
    "print(a)"
   ]
  },
  {
   "cell_type": "code",
   "execution_count": 36,
   "metadata": {},
   "outputs": [
    {
     "ename": "NameError",
     "evalue": "name 'mi_informacion' is not defined",
     "output_type": "error",
     "traceback": [
      "\u001b[0;31m---------------------------------------------------------------------------\u001b[0m",
      "\u001b[0;31mNameError\u001b[0m                                 Traceback (most recent call last)",
      "\u001b[0;32m<ipython-input-36-4fad43716f4e>\u001b[0m in \u001b[0;36m<module>\u001b[0;34m\u001b[0m\n\u001b[1;32m      5\u001b[0m \u001b[0;34m\u001b[0m\u001b[0m\n\u001b[1;32m      6\u001b[0m \u001b[0;31m¡\u001b[0m\u001b[0mGracias\u001b[0m\u001b[0;34m,\u001b[0m \u001b[0mchau\u001b[0m\u001b[0;31m!\u001b[0m\u001b[0;34m\u001b[0m\u001b[0;34m\u001b[0m\u001b[0m\n\u001b[0;32m----> 7\u001b[0;31m ''')\n\u001b[0m",
      "\u001b[0;31mNameError\u001b[0m: name 'mi_informacion' is not defined"
     ]
    }
   ],
   "source": [
    "print(f'''\n",
    "¡Hola! Mi nombre es {mi_informacion[0]}, todos me dicen {mi_informacion[1]},\n",
    "mi comida favorita es {mi_informacion[2]} y la comida que más detesto es {mi_informacion[3]}.\n",
    "Llevo {mi_informacion[4]} días programando en Python.\n",
    "\n",
    "¡Gracias, chau!\n",
    "''')"
   ]
  },
  {
   "cell_type": "markdown",
   "metadata": {},
   "source": [
    "Para que esta string funcione, asigna una lista a la variable `mi_informacion` con toda la información necesaria para imprimir tu micro-bio debajo de la celda."
   ]
  },
  {
   "cell_type": "markdown",
   "metadata": {},
   "source": [
    "Modifica el `print()` anterior para que use la forma compacta para imprimir una lista."
   ]
  },
  {
   "cell_type": "code",
   "execution_count": 37,
   "metadata": {},
   "outputs": [
    {
     "ename": "NameError",
     "evalue": "name 'mi_informacion' is not defined",
     "output_type": "error",
     "traceback": [
      "\u001b[0;31m---------------------------------------------------------------------------\u001b[0m",
      "\u001b[0;31mNameError\u001b[0m                                 Traceback (most recent call last)",
      "\u001b[0;32m<ipython-input-37-5440ee0d1894>\u001b[0m in \u001b[0;36m<module>\u001b[0;34m\u001b[0m\n\u001b[1;32m      6\u001b[0m \u001b[0;34m\u001b[0m\u001b[0m\n\u001b[1;32m      7\u001b[0m \u001b[0;31m¡\u001b[0m\u001b[0mGracias\u001b[0m\u001b[0;34m,\u001b[0m \u001b[0mchau\u001b[0m\u001b[0;31m!\u001b[0m\u001b[0;34m\u001b[0m\u001b[0;34m\u001b[0m\u001b[0m\n\u001b[0;32m----> 8\u001b[0;31m '''.format(*mi_informacion))\n\u001b[0m",
      "\u001b[0;31mNameError\u001b[0m: name 'mi_informacion' is not defined"
     ]
    }
   ],
   "source": [
    "# tu código aquí\n",
    "print('''\n",
    "¡Hola! Mi nombre es {}, todos me dicen {},\n",
    "mi comida favorita es {} y la comida que más detesto es {}.\n",
    "Llevo {} días programando en Python.\n",
    "\n",
    "¡Gracias, chau!\n",
    "'''.format(*mi_informacion))"
   ]
  },
  {
   "cell_type": "markdown",
   "metadata": {},
   "source": [
    "#### Practicando el operador de indexación \n",
    "\n",
    "La siguiente es una lista con varios números"
   ]
  },
  {
   "cell_type": "code",
   "execution_count": 40,
   "metadata": {},
   "outputs": [],
   "source": [
    "respuestas = [0.58, 9, 2, 3, 37, 5, 75, 4]"
   ]
  },
  {
   "cell_type": "markdown",
   "metadata": {},
   "source": [
    "Ahora, tenemos dos `print` con una cadena de texto interpolada. La primera hace uso de las f-strings y como puedes ver todas las interpolaciones están vacías, en el segundo caso sólo se tiene la cadena así que tienes que hacer uso del método `.format()`"
   ]
  },
  {
   "cell_type": "code",
   "execution_count": 41,
   "metadata": {},
   "outputs": [
    {
     "name": "stdout",
     "output_type": "stream",
     "text": [
      "\n",
      "6. El récord actual de velocidad en 100 metros (09/05/2020) fue establecido por Usain Bolt y es de 0.58\n",
      "\n"
     ]
    }
   ],
   "source": [
    "print(f'''\n",
    "6. El récord actual de velocidad en 100 metros (09/05/2020) fue establecido por Usain Bolt y es de {respuestas[0]}\n",
    "''')"
   ]
  },
  {
   "cell_type": "code",
   "execution_count": 48,
   "metadata": {},
   "outputs": [
    {
     "name": "stdout",
     "output_type": "stream",
     "text": [
      "\n",
      "1. Los humanos tenemos 2 ojos en la cara.\n",
      "2. Un humano adulto tiene 37 dientes dentro de su boca.\n",
      "3. Un feto tarda 9 meses en gestarse antes de nacer.\n",
      "4. La expectativa de vida en México es de alrededor de 75 años.\n",
      "5. Las horas de sueño al día recomendadas para adultos jóvenes son entre 4 y 5.\n",
      "6. El récord actual de velocidad en 100 metros (09/05/2020) fue establecido por Usain Bolt y es de 0.58\n",
      "\n"
     ]
    }
   ],
   "source": [
    "resp = [\n",
    "    respuestas[2],\n",
    "    respuestas[4],\n",
    "    respuestas[1],\n",
    "    respuestas[6],\n",
    "    respuestas[7],\n",
    "    respuestas[5],\n",
    "    respuestas[0]\n",
    "]\n",
    "print('''\n",
    "1. Los humanos tenemos {} ojos en la cara.\n",
    "2. Un humano adulto tiene {} dientes dentro de su boca.\n",
    "3. Un feto tarda {} meses en gestarse antes de nacer.\n",
    "4. La expectativa de vida en México es de alrededor de {} años.\n",
    "5. Las horas de sueño al día recomendadas para adultos jóvenes son entre {} y {}.\n",
    "6. El récord actual de velocidad en 100 metros (09/05/2020) fue establecido por Usain Bolt y es de {}\n",
    "'''.format(*resp))"
   ]
  },
  {
   "cell_type": "markdown",
   "metadata": {},
   "source": [
    "Tu reto es llenar hacer que cada uno de los `print()` incluyan los elementos de la lista de arriba. NOTA: Si necesitas agregar código puedes hacerlo con toda libertad."
   ]
  },
  {
   "cell_type": "code",
   "execution_count": null,
   "metadata": {},
   "outputs": [],
   "source": []
  }
 ],
 "metadata": {
  "kernelspec": {
   "display_name": "Python 3",
   "language": "python",
   "name": "python3"
  },
  "language_info": {
   "codemirror_mode": {
    "name": "ipython",
    "version": 3
   },
   "file_extension": ".py",
   "mimetype": "text/x-python",
   "name": "python",
   "nbconvert_exporter": "python",
   "pygments_lexer": "ipython3",
   "version": "3.7.4"
  }
 },
 "nbformat": 4,
 "nbformat_minor": 4
}
