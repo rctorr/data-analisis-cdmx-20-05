{
 "cells": [
  {
   "cell_type": "markdown",
   "metadata": {},
   "source": [
    "## Reto 2: Automatizando con `ciclos for`\n",
    "\n",
    "### 1. Objetivos:\n",
    "    - Automatizar un proceso sencillo usando `for`\n",
    " \n",
    "---\n",
    "    \n",
    "### 2. Desarrollo:"
   ]
  },
  {
   "cell_type": "markdown",
   "metadata": {},
   "source": [
    "### a) Potencias de 2\n",
    "\n",
    "Las potencias de 2 son sumamente importantes en el mundo computacional. Dado que las computadoras trabajan con lenguaje binario, gran parte del funcionamiento interno de las computadoras funciona con potencias de 2. He aquí una pequeña muestra de las primeras potencias de 2:\n",
    "\n",
    "- 2<sup>0</sup> = 1\n",
    "- 2<sup>1</sup> = 2\n",
    "- 2<sup>2</sup> = 4\n",
    "- 2<sup>3</sup> = 8\n",
    "- 2<sup>4</sup> = 16\n",
    "- 2<sup>5</sup> = 32\n",
    "- 2<sup>6</sup> = 64\n",
    "- 2<sup>7</sup> = 128\n",
    "- 2<sup>8</sup> = 256"
   ]
  },
  {
   "cell_type": "markdown",
   "metadata": {},
   "source": [
    "Tu reto es completar la función `potencia_de_dos`. Esta función recibe el exponente (el número pequeño al lado del 2) y regresa el resultado de 2 elevado a esa potencia. El detalle es que no puedes usar ningún operador o función que compute exponentes (como `**` o `np.power`), sino que tienes que realizar el cálculo utilizando 1 `bloque if` y 1 `ciclo for`. Completa el código debajo.\n",
    "\n",
    "> **Nota**: Tu función sólo debe computar exponentes positivos"
   ]
  },
  {
   "cell_type": "code",
   "execution_count": 2,
   "metadata": {},
   "outputs": [],
   "source": [
    "def potencia_de_dos(exponente):\n",
    "    \n",
    "    # validar si el exponente es negativo\n",
    "    # validar si el exponente es 0\n",
    "    # Si ya es mayor que 0 entonces calcular la\n",
    "    # potencia con el for.\n",
    "    \n",
    "    resultado = 2\n",
    "    \n",
    "    ## Tu código va aquí\n",
    "        \n",
    "    return resultado"
   ]
  },
  {
   "cell_type": "markdown",
   "metadata": {},
   "source": [
    "Comprueba tu resultado ejecutando la celda inferior"
   ]
  },
  {
   "cell_type": "code",
   "execution_count": 3,
   "metadata": {},
   "outputs": [
    {
     "name": "stdout",
     "output_type": "stream",
     "text": [
      "2^5 = 2\n",
      "2^8 = 2\n",
      "2^16 = 2\n",
      "2^-16 = 2\n",
      "2^0 = 2\n"
     ]
    }
   ],
   "source": [
    "print(\"2^5 =\", potencia_de_dos(5))\n",
    "print(\"2^8 =\", potencia_de_dos(8))\n",
    "print(\"2^16 =\", potencia_de_dos(16))\n",
    "print(\"2^-16 =\", potencia_de_dos(-16))\n",
    "print(\"2^0 =\", potencia_de_dos(0))\n"
   ]
  },
  {
   "cell_type": "code",
   "execution_count": 4,
   "metadata": {},
   "outputs": [],
   "source": [
    "None"
   ]
  },
  {
   "cell_type": "code",
   "execution_count": 5,
   "metadata": {},
   "outputs": [
    {
     "name": "stdout",
     "output_type": "stream",
     "text": [
      "2^1 = 2\n"
     ]
    }
   ],
   "source": [
    "print(\"2^1 =\", potencia_de_dos(1))"
   ]
  },
  {
   "cell_type": "code",
   "execution_count": null,
   "metadata": {},
   "outputs": [],
   "source": []
  }
 ],
 "metadata": {
  "kernelspec": {
   "display_name": "Python 3",
   "language": "python",
   "name": "python3"
  },
  "language_info": {
   "codemirror_mode": {
    "name": "ipython",
    "version": 3
   },
   "file_extension": ".py",
   "mimetype": "text/x-python",
   "name": "python",
   "nbconvert_exporter": "python",
   "pygments_lexer": "ipython3",
   "version": "3.7.4"
  }
 },
 "nbformat": 4,
 "nbformat_minor": 4
}
