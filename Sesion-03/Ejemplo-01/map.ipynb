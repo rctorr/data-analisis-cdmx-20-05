{
 "cells": [
  {
   "cell_type": "markdown",
   "metadata": {},
   "source": [
    "## Ejemplo 1: Map\n",
    "\n",
    "### 1. Objetivos:\n",
    "    - Entender cómo funciona la función `map` y verla aplicada en ejemplos para después poder reproducir su uso\n",
    " \n",
    "---\n",
    "    \n",
    "### 2. Desarrollo:"
   ]
  },
  {
   "cell_type": "markdown",
   "metadata": {},
   "source": [
    "Muchas veces vamos a querer aplicar funciones a cada uno de los elementos en una `lista`. Esto es un procedimiento muy común en la ciencia de datos. Aplicar funciones \"elemento por elemento\" a una `lista` es bastante tedioso sin utilizar la función `map`. Por suerte, `map` hace todo muy fácil e intuitivo."
   ]
  },
  {
   "cell_type": "markdown",
   "metadata": {},
   "source": [
    "Para poder usar `map` primero necesitamos una `lista`:"
   ]
  },
  {
   "cell_type": "code",
   "execution_count": 2,
   "metadata": {},
   "outputs": [],
   "source": [
    "numeros = [1, 2, 3, 4, 5, 6, 7, 8, 9, 10]  # list(range(1, 11))"
   ]
  },
  {
   "cell_type": "markdown",
   "metadata": {},
   "source": [
    "Listo.\n",
    "\n",
    "Ahora tenemos que pensar qué proceso queremos aplicar a cada uno de los elementos de la lista.\n",
    "\n",
    "Digamos que queremos multiplicarlos por 10 para uno de los elementos de la lista"
   ]
  },
  {
   "cell_type": "code",
   "execution_count": 6,
   "metadata": {},
   "outputs": [
    {
     "data": {
      "text/plain": [
       "[10, 20, 30, 40, 50, 60, 70, 80, 90, 100]"
      ]
     },
     "execution_count": 6,
     "metadata": {},
     "output_type": "execute_result"
    }
   ],
   "source": [
    "# Tu código de la función aquí\n",
    "def por_10(n):\n",
    "    \"\"\" Multiplica n por 10 \"\"\"\n",
    "    return n * 10\n",
    "\n",
    "# Aplica la función a la lista usando map\n",
    "map(por_10, numeros)  # generadores\n",
    "# convierte el mapa a una lista\n",
    "list(map(por_10, numeros))\n",
    "# Asigna los resultados a una variable\n",
    "numeros_por_10 = list(map(por_10, numeros))\n",
    "numeros_por_10"
   ]
  },
  {
   "cell_type": "code",
   "execution_count": 7,
   "metadata": {},
   "outputs": [
    {
     "data": {
      "text/plain": [
       "[10, 20, 30, 40, 50, 60, 70, 80, 90, 100]"
      ]
     },
     "execution_count": 7,
     "metadata": {},
     "output_type": "execute_result"
    }
   ],
   "source": [
    "# versión procedural o de procedimientos\n",
    "numeros_por_10 = []\n",
    "for i in numeros:\n",
    "    numeros_por_10.append(i*10)\n",
    "numeros_por_10"
   ]
  },
  {
   "cell_type": "code",
   "execution_count": 10,
   "metadata": {},
   "outputs": [
    {
     "data": {
      "text/plain": [
       "[10, 20, 30, 40, 50, 60, 70, 80, 90, 100]"
      ]
     },
     "execution_count": 10,
     "metadata": {},
     "output_type": "execute_result"
    }
   ],
   "source": [
    "# Listas de compresión\n",
    "numeros_por_10 = [x * 10 for x in numeros]\n",
    "numeros_por_10"
   ]
  },
  {
   "cell_type": "markdown",
   "metadata": {},
   "source": [
    "¿Por qué estamos agregando esa función `list`? Como viste en el Prework, `list` nos ayuda a convertir el resultado de `map` en una lista común y corriente. \n",
    "\n",
    "¡Tan fácil como eso!"
   ]
  },
  {
   "cell_type": "markdown",
   "metadata": {},
   "source": [
    "Ahora convierte la lista de números en cadenas con formato agregando la unidad de segundos `seg`."
   ]
  },
  {
   "cell_type": "code",
   "execution_count": 13,
   "metadata": {},
   "outputs": [
    {
     "data": {
      "text/plain": [
       "['1 seg',\n",
       " '2 seg',\n",
       " '3 seg',\n",
       " '4 seg',\n",
       " '5 seg',\n",
       " '6 seg',\n",
       " '7 seg',\n",
       " '8 seg',\n",
       " '9 seg',\n",
       " '10 seg']"
      ]
     },
     "execution_count": 13,
     "metadata": {},
     "output_type": "execute_result"
    }
   ],
   "source": [
    "# tu función aquí\n",
    "def a_cadenas_con_segundos(n):\n",
    "    \"\"\"\n",
    "    Genera una cadena con formato de n incluyendo segundos\n",
    "    \"\"\"\n",
    "    return f\"{n} seg\"\n",
    "\n",
    "\n",
    "list(map(a_cadenas_con_segundos, numeros))"
   ]
  },
  {
   "cell_type": "markdown",
   "metadata": {},
   "source": [
    "Ahora convierte en cero todos los números que son menores a 5"
   ]
  },
  {
   "cell_type": "code",
   "execution_count": 14,
   "metadata": {},
   "outputs": [
    {
     "data": {
      "text/plain": [
       "[0, 0, 0, 0, 5, 6, 7, 8, 9, 10]"
      ]
     },
     "execution_count": 14,
     "metadata": {},
     "output_type": "execute_result"
    }
   ],
   "source": [
    "# tu función aquí\n",
    "def convertir_en_0_si_menor_a_5(n):\n",
    "    \"\"\" Convierte a 0 si n es menor que 5 \"\"\"\n",
    "    if n < 5:\n",
    "        return 0\n",
    "    else:\n",
    "        return n\n",
    "\n",
    "list(map(convertir_en_0_si_menor_a_5, numeros))"
   ]
  },
  {
   "cell_type": "markdown",
   "metadata": {},
   "source": [
    "Ahora convierte en cero todos los números que son menores a m"
   ]
  },
  {
   "cell_type": "code",
   "execution_count": 23,
   "metadata": {},
   "outputs": [
    {
     "data": {
      "text/plain": [
       "[0, 0, 0, 4, 5, 6, 7, 8, 9, 10]"
      ]
     },
     "execution_count": 23,
     "metadata": {},
     "output_type": "execute_result"
    }
   ],
   "source": [
    "# tu función aquí\n",
    "def convertir_en_0_si_menor_a(n, m):\n",
    "    \"\"\" Convierte a 0 si n es menor que m \"\"\"\n",
    "    if n < m:\n",
    "        return 0\n",
    "    else:\n",
    "        return n\n",
    "\n",
    "# list(map(convertir_en_0_si_menor_a, numeros))\n",
    "[convertir_en_0_si_menor_a(x, 4) for x in numeros]"
   ]
  },
  {
   "cell_type": "markdown",
   "metadata": {},
   "source": [
    "Ahora es tu turno de practicar. ¡Vayamos al primer Reto!"
   ]
  },
  {
   "cell_type": "markdown",
   "metadata": {},
   "source": [
    "---\n",
    "---\n",
    "## Reto 1: Map\n",
    "\n",
    "### 1. Objetivos:\n",
    "    - Practicar el uso de `map` para transformar los datos en una `lista`\n",
    " \n",
    "---\n",
    "    \n",
    "### 2. Desarrollo:"
   ]
  },
  {
   "cell_type": "markdown",
   "metadata": {},
   "source": [
    "#### a) Proporción a porcentajes\n",
    "\n",
    "Tenemos una lista que contiene proporciones:"
   ]
  },
  {
   "cell_type": "code",
   "execution_count": 27,
   "metadata": {},
   "outputs": [],
   "source": [
    "proporciones = [0.45, 0.2, 0.78, 0.4, 0.77, 0.9, 0.4, 0.5, 0.67, 0.24, 0.73]"
   ]
  },
  {
   "cell_type": "markdown",
   "metadata": {},
   "source": [
    "Queremos convertir esta lista en una lista `porcentajes`, donde las proporciones hayan sido convertidas a porcentajes. Termina la función `proporcion_a_porcentajes` y después utiliza `map` para convertir `proporciones` y asignar la lista transformada a `porcentajes`:"
   ]
  },
  {
   "cell_type": "code",
   "execution_count": 28,
   "metadata": {},
   "outputs": [],
   "source": [
    "def proporcion_a_porcentajes(proporcion):\n",
    "    \n",
    "    porcentaje = proporcion * 100\n",
    "    \n",
    "    return porcentaje\n",
    "\n",
    "porcentajes = list(map(proporcion_a_porcentajes, proporciones))"
   ]
  },
  {
   "cell_type": "markdown",
   "metadata": {},
   "source": [
    "Corre después la siguiente celda para obtener una representación en `string`. No importa si no entiendes por completo qué está pasando en la siguiente celda. Más adelante en el módulo aprenderemos a hacer esto y más."
   ]
  },
  {
   "cell_type": "code",
   "execution_count": 31,
   "metadata": {},
   "outputs": [
    {
     "name": "stdout",
     "output_type": "stream",
     "text": [
      "== Proporciones y su equivalencia en porcentajes ==\n",
      "\n",
      "- 0.45 es equivalente a el 45%.\n",
      "- 0.2 es equivalente a el 20%.\n",
      "- 0.78 es equivalente a el 78%.\n",
      "- 0.4 es equivalente a el 40%.\n",
      "- 0.77 es equivalente a el 77%.\n",
      "- 0.9 es equivalente a el 90%.\n",
      "- 0.4 es equivalente a el 40%.\n",
      "- 0.5 es equivalente a el 50%.\n",
      "- 0.67 es equivalente a el 67%.\n",
      "- 0.24 es equivalente a el 24%.\n",
      "- 0.73 es equivalente a el 73%.\n"
     ]
    }
   ],
   "source": [
    "def imprime(proporciones, porcentajes):\n",
    "    print('== Proporciones y su equivalencia en porcentajes ==\\n')\n",
    "\n",
    "    for i, j in zip(proporciones, porcentajes):\n",
    "        print(f'- {i} es equivalente a el {j:.0f}%.')\n",
    "        \n",
    "imprime(proporciones, porcentajes)"
   ]
  },
  {
   "cell_type": "markdown",
   "metadata": {},
   "source": [
    "#### b) Strings a números\n",
    "\n",
    "Tenemos una `lista` con strings que representan valores númericos:"
   ]
  },
  {
   "cell_type": "code",
   "execution_count": 8,
   "metadata": {},
   "outputs": [],
   "source": [
    "numeros_como_strings = [\"3\", \"7\", \"45\", \"89\", \"12\", \"9\", \"5\", \"89\", \"78\", \"87\", \"44\", \"45\", \"26\", \"84\", \"98\", \"46\", \"99\", \"84\"]"
   ]
  },
  {
   "cell_type": "markdown",
   "metadata": {},
   "source": [
    "Para poder realizar algunos cálculos, necesitamos que estas cadenas sean convertidas a enteros. Escribe la función `a_entero` y asigna el resultado de su aplicación a `numeros_como_strings` a la variable `numeros`:"
   ]
  },
  {
   "cell_type": "code",
   "execution_count": null,
   "metadata": {},
   "outputs": [],
   "source": [
    "def a_entero(numero_como_cadena):\n",
    "    \n",
    "    ## Tu código va aquí\n",
    "    # ...\n",
    "    # ...\n",
    "    \n",
    "    return\n",
    "\n",
    "numeros = "
   ]
  },
  {
   "cell_type": "markdown",
   "metadata": {},
   "source": [
    "Ahora ejecuta la siguiente celda y observa algunos valores estadísticos"
   ]
  },
  {
   "cell_type": "code",
   "execution_count": null,
   "metadata": {},
   "outputs": [],
   "source": [
    "def imprimir_analisis_estadistico(datos):    \n",
    "    print(f'== Análisis estadístico de los datos recibidos ==\\n')\n",
    "    print(f'Valor mínimo: {min(datos)}')\n",
    "    print(f'Valor máximo: {max(datos)}')\n",
    "    print(f'Rango de valores: {max(datos) - min(datos)}')\n",
    "    print(f'Promedio: {sum(datos) / len(datos)}')\n",
    "\n",
    "imprimir_analisis_estadistico(numeros)"
   ]
  }
 ],
 "metadata": {
  "kernelspec": {
   "display_name": "Python 3",
   "language": "python",
   "name": "python3"
  },
  "language_info": {
   "codemirror_mode": {
    "name": "ipython",
    "version": 3
   },
   "file_extension": ".py",
   "mimetype": "text/x-python",
   "name": "python",
   "nbconvert_exporter": "python",
   "pygments_lexer": "ipython3",
   "version": "3.7.4"
  }
 },
 "nbformat": 4,
 "nbformat_minor": 4
}
